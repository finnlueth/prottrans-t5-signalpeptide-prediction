{
 "cells": [
  {
   "cell_type": "code",
   "execution_count": 1,
   "metadata": {},
   "outputs": [],
   "source": [
    "%load_ext autoreload\n",
    "%autoreload 2"
   ]
  },
  {
   "cell_type": "code",
   "execution_count": 2,
   "metadata": {},
   "outputs": [],
   "source": [
    "\n",
    "import pandas as pd\n",
    "import numpy as np\n",
    "import matplotlib.pyplot as plt\n",
    "import seaborn as sns\n",
    "import random"
   ]
  },
  {
   "cell_type": "code",
   "execution_count": 9,
   "metadata": {},
   "outputs": [],
   "source": [
    "import src.config as config\n",
    "import src.config as config\n",
    "from src.utils import get_project_root_path"
   ]
  },
  {
   "cell_type": "code",
   "execution_count": 11,
   "metadata": {},
   "outputs": [
    {
     "name": "stdout",
     "output_type": "stream",
     "text": [
      "Path:\t\t /Users/finnlueth/Developer/gits/prottrans-t5-signalpeptide-prediction\n"
     ]
    }
   ],
   "source": [
    "ROOT = get_project_root_path()\n",
    "print(\"Path:\\t\\t\", ROOT)"
   ]
  },
  {
   "cell_type": "code",
   "execution_count": 18,
   "metadata": {},
   "outputs": [],
   "source": [
    "df_data = pd.read_parquet(ROOT + '/data/processed/5.0_train.parquet.gzip')"
   ]
  },
  {
   "cell_type": "code",
   "execution_count": 19,
   "metadata": {},
   "outputs": [
    {
     "data": {
      "text/html": [
       "<div>\n",
       "<style scoped>\n",
       "    .dataframe tbody tr th:only-of-type {\n",
       "        vertical-align: middle;\n",
       "    }\n",
       "\n",
       "    .dataframe tbody tr th {\n",
       "        vertical-align: top;\n",
       "    }\n",
       "\n",
       "    .dataframe thead th {\n",
       "        text-align: right;\n",
       "    }\n",
       "</style>\n",
       "<table border=\"1\" class=\"dataframe\">\n",
       "  <thead>\n",
       "    <tr style=\"text-align: right;\">\n",
       "      <th></th>\n",
       "      <th>Sequence</th>\n",
       "      <th>Label</th>\n",
       "      <th>Split</th>\n",
       "    </tr>\n",
       "  </thead>\n",
       "  <tbody>\n",
       "    <tr>\n",
       "      <th>0</th>\n",
       "      <td>M A P T L F Q K L F S K R T G L G A P G R D A ...</td>\n",
       "      <td>[0, 0, 0, 0, 0, 0, 0, 0, 0, 0, 0, 0, 0, 0, 0, ...</td>\n",
       "      <td>train</td>\n",
       "    </tr>\n",
       "    <tr>\n",
       "      <th>1</th>\n",
       "      <td>M D F T S L E T T T F E E V V I A L G S N V G ...</td>\n",
       "      <td>[0, 0, 0, 0, 0, 0, 0, 0, 0, 0, 0, 0, 0, 0, 0, ...</td>\n",
       "      <td>train</td>\n",
       "    </tr>\n",
       "    <tr>\n",
       "      <th>2</th>\n",
       "      <td>M D D I S G R Q T L P R I N R L L E H V G N P ...</td>\n",
       "      <td>[0, 0, 0, 0, 0, 0, 0, 0, 0, 0, 0, 0, 0, 0, 0, ...</td>\n",
       "      <td>train</td>\n",
       "    </tr>\n",
       "    <tr>\n",
       "      <th>3</th>\n",
       "      <td>M L G T V K M E G H E T S D W N S Y Y A D T Q ...</td>\n",
       "      <td>[0, 0, 0, 0, 0, 0, 0, 0, 0, 0, 0, 0, 0, 0, 0, ...</td>\n",
       "      <td>test</td>\n",
       "    </tr>\n",
       "    <tr>\n",
       "      <th>4</th>\n",
       "      <td>M L G A V K M E G H E P S D W S S Y Y A E P E ...</td>\n",
       "      <td>[0, 0, 0, 0, 0, 0, 0, 0, 0, 0, 0, 0, 0, 0, 0, ...</td>\n",
       "      <td>test</td>\n",
       "    </tr>\n",
       "    <tr>\n",
       "      <th>...</th>\n",
       "      <td>...</td>\n",
       "      <td>...</td>\n",
       "      <td>...</td>\n",
       "    </tr>\n",
       "    <tr>\n",
       "      <th>20753</th>\n",
       "      <td>M Q T Q V L F E H P L N E K M R T W L R I E F ...</td>\n",
       "      <td>[0, 0, 0, 0, 0, 0, 0, 0, 0, 0, 0, 0, 0, 0, 0, ...</td>\n",
       "      <td>test</td>\n",
       "    </tr>\n",
       "    <tr>\n",
       "      <th>20754</th>\n",
       "      <td>M Q S V T P T S Q Y L K A L N E G S H Q P D D ...</td>\n",
       "      <td>[0, 0, 0, 0, 0, 0, 0, 0, 0, 0, 0, 0, 0, 0, 0, ...</td>\n",
       "      <td>train</td>\n",
       "    </tr>\n",
       "    <tr>\n",
       "      <th>20755</th>\n",
       "      <td>M R I F V Y G S L R T K Q G N S H W M T N A L ...</td>\n",
       "      <td>[0, 0, 0, 0, 0, 0, 0, 0, 0, 0, 0, 0, 0, 0, 0, ...</td>\n",
       "      <td>train</td>\n",
       "    </tr>\n",
       "    <tr>\n",
       "      <th>20756</th>\n",
       "      <td>M T M S L E V F E K L E A K V Q Q A I D T I T ...</td>\n",
       "      <td>[0, 0, 0, 0, 0, 0, 0, 0, 0, 0, 0, 0, 0, 0, 0, ...</td>\n",
       "      <td>train</td>\n",
       "    </tr>\n",
       "    <tr>\n",
       "      <th>20757</th>\n",
       "      <td>M S A Q P V D I Q I F G R S L R V N C P P D Q ...</td>\n",
       "      <td>[0, 0, 0, 0, 0, 0, 0, 0, 0, 0, 0, 0, 0, 0, 0, ...</td>\n",
       "      <td>train</td>\n",
       "    </tr>\n",
       "  </tbody>\n",
       "</table>\n",
       "<p>20758 rows × 3 columns</p>\n",
       "</div>"
      ],
      "text/plain": [
       "                                                Sequence  \\\n",
       "0      M A P T L F Q K L F S K R T G L G A P G R D A ...   \n",
       "1      M D F T S L E T T T F E E V V I A L G S N V G ...   \n",
       "2      M D D I S G R Q T L P R I N R L L E H V G N P ...   \n",
       "3      M L G T V K M E G H E T S D W N S Y Y A D T Q ...   \n",
       "4      M L G A V K M E G H E P S D W S S Y Y A E P E ...   \n",
       "...                                                  ...   \n",
       "20753  M Q T Q V L F E H P L N E K M R T W L R I E F ...   \n",
       "20754  M Q S V T P T S Q Y L K A L N E G S H Q P D D ...   \n",
       "20755  M R I F V Y G S L R T K Q G N S H W M T N A L ...   \n",
       "20756  M T M S L E V F E K L E A K V Q Q A I D T I T ...   \n",
       "20757  M S A Q P V D I Q I F G R S L R V N C P P D Q ...   \n",
       "\n",
       "                                                   Label  Split  \n",
       "0      [0, 0, 0, 0, 0, 0, 0, 0, 0, 0, 0, 0, 0, 0, 0, ...  train  \n",
       "1      [0, 0, 0, 0, 0, 0, 0, 0, 0, 0, 0, 0, 0, 0, 0, ...  train  \n",
       "2      [0, 0, 0, 0, 0, 0, 0, 0, 0, 0, 0, 0, 0, 0, 0, ...  train  \n",
       "3      [0, 0, 0, 0, 0, 0, 0, 0, 0, 0, 0, 0, 0, 0, 0, ...   test  \n",
       "4      [0, 0, 0, 0, 0, 0, 0, 0, 0, 0, 0, 0, 0, 0, 0, ...   test  \n",
       "...                                                  ...    ...  \n",
       "20753  [0, 0, 0, 0, 0, 0, 0, 0, 0, 0, 0, 0, 0, 0, 0, ...   test  \n",
       "20754  [0, 0, 0, 0, 0, 0, 0, 0, 0, 0, 0, 0, 0, 0, 0, ...  train  \n",
       "20755  [0, 0, 0, 0, 0, 0, 0, 0, 0, 0, 0, 0, 0, 0, 0, ...  train  \n",
       "20756  [0, 0, 0, 0, 0, 0, 0, 0, 0, 0, 0, 0, 0, 0, 0, ...  train  \n",
       "20757  [0, 0, 0, 0, 0, 0, 0, 0, 0, 0, 0, 0, 0, 0, 0, ...  train  \n",
       "\n",
       "[20758 rows x 3 columns]"
      ]
     },
     "execution_count": 19,
     "metadata": {},
     "output_type": "execute_result"
    }
   ],
   "source": [
    "df_data"
   ]
  },
  {
   "cell_type": "code",
   "execution_count": 20,
   "metadata": {},
   "outputs": [
    {
     "data": {
      "text/plain": [
       "{'I': 0, 'L': 1, 'M': 2, 'O': 3, 'S': 4, 'T': 5, '': -100}"
      ]
     },
     "execution_count": 20,
     "metadata": {},
     "output_type": "execute_result"
    }
   ],
   "source": [
    "config.label_encoding"
   ]
  },
  {
   "cell_type": "code",
   "execution_count": 25,
   "metadata": {},
   "outputs": [
    {
     "data": {
      "text/plain": [
       "array([0, 0, 0, 0, 0, 0, 0, 0, 0, 0, 0, 0, 0, 0, 0, 0, 0, 0, 0, 0, 0, 0,\n",
       "       0, 0, 0, 0, 0, 0, 0, 0, 0, 0, 0, 0, 0, 0, 0, 0, 0, 0, 0, 0, 0, 0,\n",
       "       0, 0, 0, 0, 0, 0, 0, 0, 0, 0, 0, 0, 0, 0, 0, 0, 0, 0, 0, 0, 0, 0,\n",
       "       0, 0, 0, 0])"
      ]
     },
     "execution_count": 25,
     "metadata": {},
     "output_type": "execute_result"
    }
   ],
   "source": [
    "df_data[\"Label\"].at[1]"
   ]
  },
  {
   "cell_type": "code",
   "execution_count": 28,
   "metadata": {},
   "outputs": [],
   "source": [
    "df_data[\"Label\"] = df_data[\"Label\"].apply(lambda x: [config.label_decoding[x] for x in list(x)])"
   ]
  },
  {
   "cell_type": "code",
   "execution_count": 30,
   "metadata": {},
   "outputs": [],
   "source": [
    "df_data[\"Sequence\"] = df_data[\"Sequence\"].apply(lambda x: x.split(\" \"))\n"
   ]
  },
  {
   "cell_type": "code",
   "execution_count": 53,
   "metadata": {},
   "outputs": [
    {
     "data": {
      "text/html": [
       "<div>\n",
       "<style scoped>\n",
       "    .dataframe tbody tr th:only-of-type {\n",
       "        vertical-align: middle;\n",
       "    }\n",
       "\n",
       "    .dataframe tbody tr th {\n",
       "        vertical-align: top;\n",
       "    }\n",
       "\n",
       "    .dataframe thead th {\n",
       "        text-align: right;\n",
       "    }\n",
       "</style>\n",
       "<table border=\"1\" class=\"dataframe\">\n",
       "  <thead>\n",
       "    <tr style=\"text-align: right;\">\n",
       "      <th></th>\n",
       "      <th>Sequence</th>\n",
       "      <th>Label</th>\n",
       "      <th>Split</th>\n",
       "    </tr>\n",
       "  </thead>\n",
       "  <tbody>\n",
       "    <tr>\n",
       "      <th>0</th>\n",
       "      <td>[M, A, P, T, L, F, Q, K, L, F, S, K, R, T, G, ...</td>\n",
       "      <td>[I, I, I, I, I, I, I, I, I, I, I, I, I, I, I, ...</td>\n",
       "      <td>train</td>\n",
       "    </tr>\n",
       "    <tr>\n",
       "      <th>1</th>\n",
       "      <td>[M, D, F, T, S, L, E, T, T, T, F, E, E, V, V, ...</td>\n",
       "      <td>[I, I, I, I, I, I, I, I, I, I, I, I, I, I, I, ...</td>\n",
       "      <td>train</td>\n",
       "    </tr>\n",
       "    <tr>\n",
       "      <th>2</th>\n",
       "      <td>[M, D, D, I, S, G, R, Q, T, L, P, R, I, N, R, ...</td>\n",
       "      <td>[I, I, I, I, I, I, I, I, I, I, I, I, I, I, I, ...</td>\n",
       "      <td>train</td>\n",
       "    </tr>\n",
       "    <tr>\n",
       "      <th>3</th>\n",
       "      <td>[M, L, G, T, V, K, M, E, G, H, E, T, S, D, W, ...</td>\n",
       "      <td>[I, I, I, I, I, I, I, I, I, I, I, I, I, I, I, ...</td>\n",
       "      <td>test</td>\n",
       "    </tr>\n",
       "    <tr>\n",
       "      <th>4</th>\n",
       "      <td>[M, L, G, A, V, K, M, E, G, H, E, P, S, D, W, ...</td>\n",
       "      <td>[I, I, I, I, I, I, I, I, I, I, I, I, I, I, I, ...</td>\n",
       "      <td>test</td>\n",
       "    </tr>\n",
       "    <tr>\n",
       "      <th>...</th>\n",
       "      <td>...</td>\n",
       "      <td>...</td>\n",
       "      <td>...</td>\n",
       "    </tr>\n",
       "    <tr>\n",
       "      <th>20753</th>\n",
       "      <td>[M, Q, T, Q, V, L, F, E, H, P, L, N, E, K, M, ...</td>\n",
       "      <td>[I, I, I, I, I, I, I, I, I, I, I, I, I, I, I, ...</td>\n",
       "      <td>test</td>\n",
       "    </tr>\n",
       "    <tr>\n",
       "      <th>20754</th>\n",
       "      <td>[M, Q, S, V, T, P, T, S, Q, Y, L, K, A, L, N, ...</td>\n",
       "      <td>[I, I, I, I, I, I, I, I, I, I, I, I, I, I, I, ...</td>\n",
       "      <td>train</td>\n",
       "    </tr>\n",
       "    <tr>\n",
       "      <th>20755</th>\n",
       "      <td>[M, R, I, F, V, Y, G, S, L, R, T, K, Q, G, N, ...</td>\n",
       "      <td>[I, I, I, I, I, I, I, I, I, I, I, I, I, I, I, ...</td>\n",
       "      <td>train</td>\n",
       "    </tr>\n",
       "    <tr>\n",
       "      <th>20756</th>\n",
       "      <td>[M, T, M, S, L, E, V, F, E, K, L, E, A, K, V, ...</td>\n",
       "      <td>[I, I, I, I, I, I, I, I, I, I, I, I, I, I, I, ...</td>\n",
       "      <td>train</td>\n",
       "    </tr>\n",
       "    <tr>\n",
       "      <th>20757</th>\n",
       "      <td>[M, S, A, Q, P, V, D, I, Q, I, F, G, R, S, L, ...</td>\n",
       "      <td>[I, I, I, I, I, I, I, I, I, I, I, I, I, I, I, ...</td>\n",
       "      <td>train</td>\n",
       "    </tr>\n",
       "  </tbody>\n",
       "</table>\n",
       "<p>20758 rows × 3 columns</p>\n",
       "</div>"
      ],
      "text/plain": [
       "                                                Sequence  \\\n",
       "0      [M, A, P, T, L, F, Q, K, L, F, S, K, R, T, G, ...   \n",
       "1      [M, D, F, T, S, L, E, T, T, T, F, E, E, V, V, ...   \n",
       "2      [M, D, D, I, S, G, R, Q, T, L, P, R, I, N, R, ...   \n",
       "3      [M, L, G, T, V, K, M, E, G, H, E, T, S, D, W, ...   \n",
       "4      [M, L, G, A, V, K, M, E, G, H, E, P, S, D, W, ...   \n",
       "...                                                  ...   \n",
       "20753  [M, Q, T, Q, V, L, F, E, H, P, L, N, E, K, M, ...   \n",
       "20754  [M, Q, S, V, T, P, T, S, Q, Y, L, K, A, L, N, ...   \n",
       "20755  [M, R, I, F, V, Y, G, S, L, R, T, K, Q, G, N, ...   \n",
       "20756  [M, T, M, S, L, E, V, F, E, K, L, E, A, K, V, ...   \n",
       "20757  [M, S, A, Q, P, V, D, I, Q, I, F, G, R, S, L, ...   \n",
       "\n",
       "                                                   Label  Split  \n",
       "0      [I, I, I, I, I, I, I, I, I, I, I, I, I, I, I, ...  train  \n",
       "1      [I, I, I, I, I, I, I, I, I, I, I, I, I, I, I, ...  train  \n",
       "2      [I, I, I, I, I, I, I, I, I, I, I, I, I, I, I, ...  train  \n",
       "3      [I, I, I, I, I, I, I, I, I, I, I, I, I, I, I, ...   test  \n",
       "4      [I, I, I, I, I, I, I, I, I, I, I, I, I, I, I, ...   test  \n",
       "...                                                  ...    ...  \n",
       "20753  [I, I, I, I, I, I, I, I, I, I, I, I, I, I, I, ...   test  \n",
       "20754  [I, I, I, I, I, I, I, I, I, I, I, I, I, I, I, ...  train  \n",
       "20755  [I, I, I, I, I, I, I, I, I, I, I, I, I, I, I, ...  train  \n",
       "20756  [I, I, I, I, I, I, I, I, I, I, I, I, I, I, I, ...  train  \n",
       "20757  [I, I, I, I, I, I, I, I, I, I, I, I, I, I, I, ...  train  \n",
       "\n",
       "[20758 rows x 3 columns]"
      ]
     },
     "execution_count": 53,
     "metadata": {},
     "output_type": "execute_result"
    }
   ],
   "source": [
    "df_data"
   ]
  },
  {
   "cell_type": "code",
   "execution_count": 33,
   "metadata": {},
   "outputs": [],
   "source": [
    "most_common = df_data[\"Sequence\"].apply(lambda x: pd.Series(x).mode()[0]).tolist()"
   ]
  },
  {
   "cell_type": "code",
   "execution_count": 114,
   "metadata": {},
   "outputs": [],
   "source": [
    "df_seq_list = df_data[\"Label\"].apply(lambda x: x).to_list()"
   ]
  },
  {
   "cell_type": "code",
   "execution_count": 117,
   "metadata": {},
   "outputs": [
    {
     "name": "stdout",
     "output_type": "stream",
     "text": [
      "['S', 'S', 'S', 'S', 'S', 'S', 'S', 'S', 'S', 'S', 'S', 'S', 'S', 'S', 'S', 'S', 'S', 'S', 'S', 'O', 'O', 'O', 'O', 'O', 'O', 'O', 'O', 'O', 'O', 'O', 'O', 'O', 'O', 'O', 'O', 'O', 'O', 'O', 'O', 'O', 'O', 'O', 'O', 'O', 'O', 'O', 'O', 'O', 'O', 'O', 'O', 'O', 'O', 'O', 'O', 'O', 'O', 'O', 'O', 'O', 'O', 'O', 'O', 'O', 'O', 'O', 'O', 'O', 'O', 'O']\n"
     ]
    }
   ],
   "source": [
    "print(df_seq_list[15838])"
   ]
  },
  {
   "cell_type": "code",
   "execution_count": 137,
   "metadata": {},
   "outputs": [
    {
     "name": "stdout",
     "output_type": "stream",
     "text": [
      "['I', 'I', 'I', 'I', 'I', 'I', 'I', 'I', 'I', 'I', 'I', 'I', 'I', 'I', 'I', 'I', 'I', 'I', 'I', 'I', 'I', 'I', 'I', 'I', 'I', 'I', 'I', 'I', 'I', 'I', 'I', 'I', 'I', 'I', 'I', 'I', 'I', 'I', 'I', 'I', 'I', 'I', 'I', 'I', 'I', 'I', 'I', 'I', 'I', 'I', 'I', 'I', 'I', 'I', 'I', 'I', 'I', 'I', 'I', 'I', 'I', 'I', 'I', 'I', 'I', 'I', 'I', 'I', 'I', 'I']\n"
     ]
    }
   ],
   "source": [
    "print(df_seq_list[0])"
   ]
  },
  {
   "cell_type": "code",
   "execution_count": 120,
   "metadata": {},
   "outputs": [],
   "source": [
    "transposed_df_seq_list = list(zip(*df_seq_list))"
   ]
  },
  {
   "cell_type": "code",
   "execution_count": 141,
   "metadata": {},
   "outputs": [
    {
     "name": "stdout",
     "output_type": "stream",
     "text": [
      "['I', 'I', 'I', 'I', 'I', 'I', 'I', 'I', 'I', 'I', 'I', 'I', 'I', 'I', 'I', 'I', 'I', 'I', 'I', 'I']\n"
     ]
    }
   ],
   "source": [
    "res = []\n",
    "for x in range(20):\n",
    "    res.append(pd.Series(transposed_df_seq_list[x]).mode()[0])\n",
    "print(res)"
   ]
  },
  {
   "cell_type": "code",
   "execution_count": 82,
   "metadata": {},
   "outputs": [],
   "source": [
    "# for index, item in enumerate(result_sequence):\n",
    "#     print(index, item) "
   ]
  },
  {
   "cell_type": "code",
   "execution_count": 151,
   "metadata": {},
   "outputs": [],
   "source": [
    "result_sequence = [x for x in df_data[\"Label\"] if set(x) != {'I'}]\n",
    "# print(result_sequence)"
   ]
  },
  {
   "cell_type": "code",
   "execution_count": 178,
   "metadata": {},
   "outputs": [],
   "source": [
    "l = df_data[\"Label\"][pd.Series([set(x) != {'I'} for x in df_data[\"Label\"]])].to_list()"
   ]
  },
  {
   "cell_type": "code",
   "execution_count": 186,
   "metadata": {},
   "outputs": [],
   "source": [
    "res = [[] for x in range(70)]\n",
    "for seq in l:\n",
    "    for ind, ann in enumerate(seq):\n",
    "        res[ind].append(ann)"
   ]
  },
  {
   "cell_type": "code",
   "execution_count": 193,
   "metadata": {},
   "outputs": [
    {
     "name": "stdout",
     "output_type": "stream",
     "text": [
      "SSSSSSSSSSSSSSSSSSSSSOOOOOOOOOOOOOOOOOOOOOOOOOOOOOOOOOOOOOOOOOOOOOOOOO\n"
     ]
    }
   ],
   "source": [
    "print(*[pd.Series(x).mode()[0] for x in res], sep=\"\")"
   ]
  },
  {
   "cell_type": "code",
   "execution_count": 198,
   "metadata": {},
   "outputs": [
    {
     "name": "stdout",
     "output_type": "stream",
     "text": [
      "SSSSSSSSSSSSSSSSSSSSSOOOOOOOOOOOOOOOOOOOOOOOOOOOOOOOOOOOOOOOOOOOOOOOOO\n"
     ]
    }
   ],
   "source": [
    "opt = [pd.Series(x).mode()[0] for x in res]\n",
    "print(*opt, sep=\"\")"
   ]
  },
  {
   "cell_type": "code",
   "execution_count": 251,
   "metadata": {},
   "outputs": [],
   "source": [
    "res_c = [0 for x in range(70)]\n",
    "for seq in l:\n",
    "    for ind, ann in enumerate(seq):\n",
    "        if ann == opt[ind]:\n",
    "            res_c[ind] += 1"
   ]
  },
  {
   "cell_type": "code",
   "execution_count": 213,
   "metadata": {},
   "outputs": [
    {
     "name": "stdout",
     "output_type": "stream",
     "text": [
      "3372 3372 3372 3372 3372 3372 3372 3371 3371 3371 3371 3367 3366 3364 3355 3296 3127 3015 2811 2481 2235 2628 3076 3478 3805 4038 4302 4503 4673 4829 4962 5094 5219 5294 5358 5411 5454 5476 5501 5533 5559 5587 5618 5630 5658 5690 5713 5706 5706 5716 5727 5732 5737 5745 5744 5740 5748 5743 5749 5731 5722 5713 5716 5704 5696 5696 5698 5690 5679 5677\n"
     ]
    }
   ],
   "source": [
    "print(*res_c)"
   ]
  },
  {
   "cell_type": "code",
   "execution_count": 233,
   "metadata": {},
   "outputs": [
    {
     "name": "stdout",
     "output_type": "stream",
     "text": [
      "0.5 0.5 0.5 0.5 0.5 0.5 0.5 0.5 0.5 0.5 0.5 0.5 0.5 0.5 0.5 0.49 0.46 0.45 0.42 0.37 0.33 0.39 0.46 0.52 0.57 0.6 0.64 0.67 0.69 0.72 0.74 0.76 0.78 0.79 0.8 0.8 0.81 0.81 0.82 0.82 0.83 0.83 0.84 0.84 0.84 0.85 0.85 0.85 0.85 0.85 0.85 0.85 0.85 0.85 0.85 0.85 0.85 0.85 0.85 0.85 0.85 0.85 0.85 0.85 0.85 0.85 0.85 0.85 0.84 0.84\n",
      "0.69\n"
     ]
    }
   ],
   "source": [
    "asdkl = [round(x/len(l), 2) for x in res_c]\n",
    "\n",
    "print(*asdkl)\n",
    "print(round(sum(asdkl)/len(asdkl), 2))\n"
   ]
  },
  {
   "cell_type": "code",
   "execution_count": 335,
   "metadata": {},
   "outputs": [
    {
     "data": {
      "text/html": [
       "<div>\n",
       "<style scoped>\n",
       "    .dataframe tbody tr th:only-of-type {\n",
       "        vertical-align: middle;\n",
       "    }\n",
       "\n",
       "    .dataframe tbody tr th {\n",
       "        vertical-align: top;\n",
       "    }\n",
       "\n",
       "    .dataframe thead th {\n",
       "        text-align: right;\n",
       "    }\n",
       "</style>\n",
       "<table border=\"1\" class=\"dataframe\">\n",
       "  <thead>\n",
       "    <tr style=\"text-align: right;\">\n",
       "      <th></th>\n",
       "      <th>optimal_sequence</th>\n",
       "      <th>probability</th>\n",
       "      <th>total</th>\n",
       "      <th>stdev</th>\n",
       "      <th>variance</th>\n",
       "    </tr>\n",
       "  </thead>\n",
       "  <tbody>\n",
       "    <tr>\n",
       "      <th>0</th>\n",
       "      <td>S</td>\n",
       "      <td>0.50</td>\n",
       "      <td>3372</td>\n",
       "      <td>0.172212</td>\n",
       "      <td>0.029657</td>\n",
       "    </tr>\n",
       "    <tr>\n",
       "      <th>1</th>\n",
       "      <td>S</td>\n",
       "      <td>0.50</td>\n",
       "      <td>3372</td>\n",
       "      <td>0.172212</td>\n",
       "      <td>0.029657</td>\n",
       "    </tr>\n",
       "    <tr>\n",
       "      <th>2</th>\n",
       "      <td>S</td>\n",
       "      <td>0.50</td>\n",
       "      <td>3372</td>\n",
       "      <td>0.172212</td>\n",
       "      <td>0.029657</td>\n",
       "    </tr>\n",
       "    <tr>\n",
       "      <th>3</th>\n",
       "      <td>S</td>\n",
       "      <td>0.50</td>\n",
       "      <td>3372</td>\n",
       "      <td>0.172212</td>\n",
       "      <td>0.029657</td>\n",
       "    </tr>\n",
       "    <tr>\n",
       "      <th>4</th>\n",
       "      <td>S</td>\n",
       "      <td>0.50</td>\n",
       "      <td>3372</td>\n",
       "      <td>0.172212</td>\n",
       "      <td>0.029657</td>\n",
       "    </tr>\n",
       "    <tr>\n",
       "      <th>...</th>\n",
       "      <td>...</td>\n",
       "      <td>...</td>\n",
       "      <td>...</td>\n",
       "      <td>...</td>\n",
       "      <td>...</td>\n",
       "    </tr>\n",
       "    <tr>\n",
       "      <th>65</th>\n",
       "      <td>O</td>\n",
       "      <td>0.85</td>\n",
       "      <td>5696</td>\n",
       "      <td>0.172212</td>\n",
       "      <td>0.029657</td>\n",
       "    </tr>\n",
       "    <tr>\n",
       "      <th>66</th>\n",
       "      <td>O</td>\n",
       "      <td>0.85</td>\n",
       "      <td>5698</td>\n",
       "      <td>0.172212</td>\n",
       "      <td>0.029657</td>\n",
       "    </tr>\n",
       "    <tr>\n",
       "      <th>67</th>\n",
       "      <td>O</td>\n",
       "      <td>0.85</td>\n",
       "      <td>5690</td>\n",
       "      <td>0.172212</td>\n",
       "      <td>0.029657</td>\n",
       "    </tr>\n",
       "    <tr>\n",
       "      <th>68</th>\n",
       "      <td>O</td>\n",
       "      <td>0.84</td>\n",
       "      <td>5679</td>\n",
       "      <td>0.172212</td>\n",
       "      <td>0.029657</td>\n",
       "    </tr>\n",
       "    <tr>\n",
       "      <th>69</th>\n",
       "      <td>O</td>\n",
       "      <td>0.84</td>\n",
       "      <td>5677</td>\n",
       "      <td>0.172212</td>\n",
       "      <td>0.029657</td>\n",
       "    </tr>\n",
       "  </tbody>\n",
       "</table>\n",
       "<p>70 rows × 5 columns</p>\n",
       "</div>"
      ],
      "text/plain": [
       "   optimal_sequence  probability  total     stdev  variance\n",
       "0                 S         0.50   3372  0.172212  0.029657\n",
       "1                 S         0.50   3372  0.172212  0.029657\n",
       "2                 S         0.50   3372  0.172212  0.029657\n",
       "3                 S         0.50   3372  0.172212  0.029657\n",
       "4                 S         0.50   3372  0.172212  0.029657\n",
       "..              ...          ...    ...       ...       ...\n",
       "65                O         0.85   5696  0.172212  0.029657\n",
       "66                O         0.85   5698  0.172212  0.029657\n",
       "67                O         0.85   5690  0.172212  0.029657\n",
       "68                O         0.84   5679  0.172212  0.029657\n",
       "69                O         0.84   5677  0.172212  0.029657\n",
       "\n",
       "[70 rows x 5 columns]"
      ]
     },
     "metadata": {},
     "output_type": "display_data"
    }
   ],
   "source": [
    "df_prob = pd.DataFrame({\n",
    "    'optimal_sequence': opt,\n",
    "    'probability': asdkl,\n",
    "    'total': res_c,\n",
    "    'stdev': pd.Series(asdkl).std(),\n",
    "    'variance': pd.Series(asdkl).var()\n",
    "})\n",
    "display(df_prob)"
   ]
  },
  {
   "cell_type": "code",
   "execution_count": 338,
   "metadata": {},
   "outputs": [
    {
     "name": "stderr",
     "output_type": "stream",
     "text": [
      "/var/folders/c3/ctxqsv450b3cgzj3sklngdm80000gn/T/ipykernel_67430/1631152728.py:4: UserWarning: set_ticklabels() should only be used with a fixed number of ticks, i.e. after set_ticks() or using a FixedLocator.\n",
      "  g.set_xticklabels(df_prob.optimal_sequence)\n"
     ]
    },
    {
     "data": {
      "image/png": "[encoded data removed]",
      "text/plain": [
       "<Figure size 1400x400 with 1 Axes>"
      ]
     },
     "metadata": {},
     "output_type": "display_data"
    }
   ],
   "source": [
    "sns.set_theme()\n",
    "plt.figure(figsize=(14,4))\n",
    "g = sns.barplot(data=df_prob.probability, yerr=df_prob.stdev.at[0])\n",
    "g.set_xticklabels(df_prob.optimal_sequence)\n",
    "g.set_title(\"Accuracy of optimal sequence prediction on a given label\")\n",
    "g.set_xlabel(\"Label\")\n",
    "g.set_ylabel(\"Accuracy\")\n",
    "\n",
    "plt.show()\n"
   ]
  },
  {
   "cell_type": "code",
   "execution_count": null,
   "metadata": {},
   "outputs": [],
   "source": []
  },
  {
   "cell_type": "code",
   "execution_count": null,
   "metadata": {},
   "outputs": [],
   "source": []
  }
 ],
 "metadata": {
  "kernelspec": {
   "display_name": ".venv",
   "language": "python",
   "name": "python3"
  },
  "language_info": {
   "codemirror_mode": {
    "name": "ipython",
    "version": 3
   },
   "file_extension": ".py",
   "mimetype": "text/x-python",
   "name": "python",
   "nbconvert_exporter": "python",
   "pygments_lexer": "ipython3",
   "version": "3.11.5"
  }
 },
 "nbformat": 4,
 "nbformat_minor": 2
}
