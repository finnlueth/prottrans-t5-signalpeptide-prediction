{
 "cells": [
  {
   "cell_type": "code",
   "execution_count": 1,
   "metadata": {},
   "outputs": [],
   "source": [
    "%load_ext autoreload\n",
    "%autoreload 2"
   ]
  },
  {
   "cell_type": "code",
   "execution_count": 2,
   "metadata": {},
   "outputs": [],
   "source": [
    "import pickle\n",
    "import pickletools\n",
    "\n",
    "import re\n",
    "import gc\n",
    "import os\n",
    "import math\n",
    "import copy\n",
    "import types\n",
    "import yaml\n",
    "import sys\n",
    "\n",
    "import numpy as np\n",
    "import pandas as pd\n",
    "\n",
    "import torch\n",
    "import torch.nn as nn\n",
    "from torch.nn import (\n",
    "    CrossEntropyLoss,\n",
    "    MSELoss\n",
    ")\n",
    "from torch.utils.data import DataLoader\n",
    "\n",
    "import evaluate\n",
    "\n",
    "import transformers\n",
    "from transformers import (\n",
    "    AutoModelForTokenClassification,\n",
    "    AutoConfig,\n",
    "    T5EncoderModel,\n",
    "    T5Tokenizer,\n",
    "    T5PreTrainedModel,\n",
    "    T5ForConditionalGeneration,\n",
    "    pipeline,\n",
    "    DataCollatorForTokenClassification,\n",
    "    TrainingArguments,\n",
    "    Trainer,\n",
    "    set_seed,\n",
    "    EvalPrediction,\n",
    "    )\n",
    "from transformers.modeling_outputs import TokenClassifierOutput\n",
    "\n",
    "from peft import (\n",
    "    LoraConfig,\n",
    "    get_peft_model,\n",
    "    TaskType,\n",
    "    get_peft_config,\n",
    "    PeftModel,\n",
    "    PeftConfig,\n",
    "    prepare_model_for_kbit_training\n",
    "    )\n",
    "\n",
    "from datasets import Dataset\n",
    "\n",
    "import src.config as config\n",
    "import src.config\n",
    "import src.data\n",
    "import src.model_new\n",
    "\n",
    "from src.model_working import (\n",
    "    get_prottrans_tokenizer_model,\n",
    "    df_to_dataset,\n",
    "    inject_linear_layer,\n",
    "    )\n",
    "from src.utils import get_project_root_path"
   ]
  },
  {
   "cell_type": "code",
   "execution_count": 3,
   "metadata": {},
   "outputs": [
    {
     "name": "stdout",
     "output_type": "stream",
     "text": [
      "Base Model:\t Rostlab/prot_t5_xl_uniref50\n",
      "MPS:\t\t False\n",
      "Path:\t\t /home/ec2-user/developer/prottrans-t5-signalpeptide-prediction\n",
      "Using device:\t cuda:0\n"
     ]
    }
   ],
   "source": [
    "base_model_name = config.base_model_name\n",
    "print(\"Base Model:\\t\", base_model_name)\n",
    "print(\"MPS:\\t\\t\", torch.backends.mps.is_available())\n",
    "ROOT = get_project_root_path()\n",
    "print(\"Path:\\t\\t\", ROOT)\n",
    "device = torch.device('cuda:0' if torch.cuda.is_available() else ('mps' if torch.backends.mps.is_available() else 'cpu'))\n",
    "print(f\"Using device:\\t {device}\")"
   ]
  },
  {
   "cell_type": "code",
   "execution_count": 4,
   "metadata": {},
   "outputs": [],
   "source": [
    "t5_tokenizer = T5Tokenizer.from_pretrained(\n",
    "        pretrained_model_name_or_path=src.config.base_model_name,\n",
    "        do_lower_case=False,\n",
    "        use_fast=True,\n",
    "        legacy=False\n",
    "    )"
   ]
  },
  {
   "cell_type": "code",
   "execution_count": 5,
   "metadata": {},
   "outputs": [],
   "source": [
    "t5_base_model = T5EncoderModel.from_pretrained(\n",
    "    pretrained_model_name_or_path=src.config.base_model_name,\n",
    "    device_map='auto',\n",
    "    load_in_8bit=False,\n",
    "    )"
   ]
  },
  {
   "cell_type": "code",
   "execution_count": 6,
   "metadata": {},
   "outputs": [],
   "source": [
    "# t5_base_model.load_adapter(ROOT+adapter_location)"
   ]
  },
  {
   "cell_type": "code",
   "execution_count": 7,
   "metadata": {},
   "outputs": [],
   "source": [
    "adapter_location = '/models/linear_model_v5'\n",
    "model_lora_config = PeftConfig.from_pretrained(ROOT + adapter_location)"
   ]
  },
  {
   "cell_type": "code",
   "execution_count": 8,
   "metadata": {},
   "outputs": [],
   "source": [
    "t5_lora_model = PeftModel.from_pretrained(\n",
    "    model = t5_base_model,\n",
    "    is_trainable=False,\n",
    "    model_id=ROOT+adapter_location,\n",
    ")"
   ]
  },
  {
   "cell_type": "code",
   "execution_count": 9,
   "metadata": {},
   "outputs": [],
   "source": [
    "t5_lora_model = inject_linear_layer(\n",
    "    t5_lora_model=t5_lora_model,\n",
    "    num_labels=len(src.config.label_decoding),\n",
    "    dropout_rate=src.config.dropout_rate\n",
    "    )"
   ]
  },
  {
   "cell_type": "code",
   "execution_count": 10,
   "metadata": {},
   "outputs": [
    {
     "data": {
      "text/plain": [
       "[('weight',\n",
       "  Parameter containing:\n",
       "  tensor([[-0.0238, -0.0091, -0.0253,  ..., -0.0252,  0.0124,  0.0081],\n",
       "          [ 0.0102, -0.0186,  0.0241,  ...,  0.0279,  0.0276,  0.0046],\n",
       "          [ 0.0310,  0.0180, -0.0218,  ...,  0.0090,  0.0036,  0.0001],\n",
       "          [ 0.0272,  0.0238,  0.0047,  ...,  0.0258, -0.0070,  0.0241],\n",
       "          [-0.0284, -0.0256, -0.0073,  ..., -0.0220, -0.0227,  0.0252],\n",
       "          [-0.0286,  0.0217,  0.0073,  ...,  0.0307,  0.0256, -0.0114]],\n",
       "         requires_grad=True)),\n",
       " ('bias',\n",
       "  Parameter containing:\n",
       "  tensor([ 0.0103,  0.0268, -0.0011,  0.0031, -0.0128,  0.0100],\n",
       "         requires_grad=True))]"
      ]
     },
     "execution_count": 10,
     "metadata": {},
     "output_type": "execute_result"
    }
   ],
   "source": [
    "[x for x in t5_lora_model.custom_classifier.named_parameters()]"
   ]
  },
  {
   "cell_type": "code",
   "execution_count": 11,
   "metadata": {},
   "outputs": [],
   "source": [
    "t5_lora_model = PeftModel.from_pretrained(\n",
    "    model = t5_lora_model,\n",
    "    is_trainable=False,\n",
    "    model_id=ROOT+adapter_location,\n",
    ")"
   ]
  },
  {
   "cell_type": "code",
   "execution_count": 14,
   "metadata": {},
   "outputs": [
    {
     "data": {
      "text/plain": [
       "[('original_module.weight',\n",
       "  Parameter containing:\n",
       "  tensor([[-0.0238, -0.0091, -0.0253,  ..., -0.0252,  0.0124,  0.0081],\n",
       "          [ 0.0102, -0.0186,  0.0241,  ...,  0.0279,  0.0276,  0.0046],\n",
       "          [ 0.0310,  0.0180, -0.0218,  ...,  0.0090,  0.0036,  0.0001],\n",
       "          [ 0.0272,  0.0238,  0.0047,  ...,  0.0258, -0.0070,  0.0241],\n",
       "          [-0.0284, -0.0256, -0.0073,  ..., -0.0220, -0.0227,  0.0252],\n",
       "          [-0.0286,  0.0217,  0.0073,  ...,  0.0307,  0.0256, -0.0114]],\n",
       "         requires_grad=True)),\n",
       " ('original_module.bias',\n",
       "  Parameter containing:\n",
       "  tensor([ 0.0103,  0.0268, -0.0011,  0.0031, -0.0128,  0.0100],\n",
       "         requires_grad=True)),\n",
       " ('modules_to_save.default.weight',\n",
       "  Parameter containing:\n",
       "  tensor([[-0.0238, -0.0091, -0.0253,  ..., -0.0252,  0.0124,  0.0081],\n",
       "          [ 0.0102, -0.0186,  0.0241,  ...,  0.0279,  0.0276,  0.0046],\n",
       "          [ 0.0310,  0.0180, -0.0218,  ...,  0.0090,  0.0036,  0.0001],\n",
       "          [ 0.0272,  0.0238,  0.0047,  ...,  0.0258, -0.0070,  0.0241],\n",
       "          [-0.0284, -0.0256, -0.0073,  ..., -0.0220, -0.0227,  0.0252],\n",
       "          [-0.0286,  0.0217,  0.0073,  ...,  0.0307,  0.0256, -0.0114]],\n",
       "         requires_grad=True)),\n",
       " ('modules_to_save.default.bias',\n",
       "  Parameter containing:\n",
       "  tensor([ 0.0103,  0.0268, -0.0011,  0.0031, -0.0128,  0.0100],\n",
       "         requires_grad=True))]"
      ]
     },
     "execution_count": 14,
     "metadata": {},
     "output_type": "execute_result"
    }
   ],
   "source": [
    "[x for x in t5_lora_model.custom_classifier.named_parameters()]"
   ]
  },
  {
   "cell_type": "code",
   "execution_count": null,
   "metadata": {},
   "outputs": [],
   "source": [
    "FASTA_FILENAME = '5_SignalP_5.0_Training_set.fasta'\n",
    "annotations_name = 'Label' # Choose Type or Label\n",
    "\n",
    "df_data = src.data.process(src.data.parse_file(ROOT + '/data/raw/' + FASTA_FILENAME))\n",
    "\n",
    "dataset_signalp = src.model_new.create_datasets(\n",
    "    splits=src.config.splits,\n",
    "    tokenizer=t5_tokenizer,\n",
    "    data=df_data,\n",
    "    annotations_name=annotations_name,\n",
    "    dataset_size=src.config.dataset_size,\n",
    "    encoder=src.config.select_encodings[annotations_name],\n",
    "    )\n",
    "\n",
    "del df_data"
   ]
  },
  {
   "cell_type": "markdown",
   "metadata": {},
   "source": [
    "---"
   ]
  },
  {
   "cell_type": "code",
   "execution_count": null,
   "metadata": {},
   "outputs": [],
   "source": [
    "def predict_model(sequence: str, tokenizer: T5Tokenizer, model):\n",
    "    # print('sequence', sequence)\n",
    "    tokenized_string = tokenizer.encode(sequence, padding=True, truncation=True, return_tensors=\"pt\", max_length=1024)\n",
    "    # print('tokenized_string', tokenized_string)\n",
    "    with torch.no_grad():\n",
    "        output = model(tokenized_string.to(device))\n",
    "    # print('output', output)\n",
    "    return output\n",
    "\n",
    "def translate_logits(logits):\n",
    "    return [src.config.label_decoding[x] for x in logits.argmax(-1).tolist()[0]]"
   ]
  },
  {
   "cell_type": "code",
   "execution_count": null,
   "metadata": {},
   "outputs": [],
   "source": [
    "_ds_index = 3290\n",
    "_ds_type = 'test'\n",
    "\n",
    "_inids_test = t5_tokenizer.decode(dataset_signalp[_ds_type][_ds_index]['input_ids'])\n",
    "_labels_test = dataset_signalp[_ds_type][_ds_index]['labels']\n",
    "_labels_test_decoded = [src.config.label_decoding[x] for x in _labels_test]\n",
    "print(_inids_test)\n",
    "print(_labels_test)\n",
    "print(_labels_test_decoded)"
   ]
  },
  {
   "cell_type": "code",
   "execution_count": null,
   "metadata": {},
   "outputs": [],
   "source": [
    "[x for x in t5_lora_model.custom_classifier.named_parameters()]"
   ]
  },
  {
   "cell_type": "code",
   "execution_count": null,
   "metadata": {},
   "outputs": [],
   "source": [
    "preds = predict_model(_inids_test, t5_tokenizer, t5_lora_model)"
   ]
  },
  {
   "cell_type": "code",
   "execution_count": null,
   "metadata": {},
   "outputs": [],
   "source": [
    "_res = translate_logits(preds.logits.cpu().numpy())\n",
    "print(_res)"
   ]
  },
  {
   "cell_type": "code",
   "execution_count": null,
   "metadata": {},
   "outputs": [],
   "source": []
  }
 ],
 "metadata": {
  "kernelspec": {
   "display_name": ".venv",
   "language": "python",
   "name": "python3"
  },
  "language_info": {
   "codemirror_mode": {
    "name": "ipython",
    "version": 3
   },
   "file_extension": ".py",
   "mimetype": "text/x-python",
   "name": "python",
   "nbconvert_exporter": "python",
   "pygments_lexer": "ipython3",
   "version": "3.11.2"
  }
 },
 "nbformat": 4,
 "nbformat_minor": 2
}
