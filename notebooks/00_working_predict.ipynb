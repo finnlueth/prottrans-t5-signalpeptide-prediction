{
 "cells": [
  {
   "cell_type": "code",
   "execution_count": 1,
   "metadata": {},
   "outputs": [],
   "source": [
    "%load_ext autoreload\n",
    "%autoreload 2"
   ]
  },
  {
   "cell_type": "code",
   "execution_count": 2,
   "metadata": {},
   "outputs": [
    {
     "name": "stderr",
     "output_type": "stream",
     "text": [
      "/Users/finnlueth/Developer/gits/prottrans-t5-signalpeptide-prediction/.venv/lib/python3.11/site-packages/bitsandbytes/cextension.py:34: UserWarning: The installed version of bitsandbytes was compiled without GPU support. 8-bit optimizers, 8-bit multiplication, and GPU quantization are unavailable.\n",
      "  warn(\"The installed version of bitsandbytes was compiled without GPU support. \"\n"
     ]
    },
    {
     "name": "stdout",
     "output_type": "stream",
     "text": [
      "'NoneType' object has no attribute 'cadam32bit_grad_fp32'\n"
     ]
    }
   ],
   "source": [
    "import pickle\n",
    "import pickletools\n",
    "\n",
    "import re\n",
    "import gc\n",
    "import os\n",
    "import math\n",
    "import copy\n",
    "import types\n",
    "import yaml\n",
    "import sys\n",
    "\n",
    "import numpy as np\n",
    "import pandas as pd\n",
    "\n",
    "import torch\n",
    "import torch.nn as nn\n",
    "from torch.nn import (\n",
    "    CrossEntropyLoss,\n",
    "    MSELoss\n",
    ")\n",
    "from torch.utils.data import DataLoader\n",
    "\n",
    "import evaluate\n",
    "\n",
    "import transformers\n",
    "from transformers import (\n",
    "    AutoModelForTokenClassification,\n",
    "    AutoConfig,\n",
    "    T5EncoderModel,\n",
    "    T5Tokenizer,\n",
    "    T5PreTrainedModel,\n",
    "    T5ForConditionalGeneration,\n",
    "    pipeline,\n",
    "    DataCollatorForTokenClassification,\n",
    "    TrainingArguments,\n",
    "    Trainer,\n",
    "    set_seed,\n",
    "    EvalPrediction,\n",
    "    )\n",
    "from transformers.modeling_outputs import TokenClassifierOutput\n",
    "\n",
    "from peft import (\n",
    "    LoraConfig,\n",
    "    get_peft_model,\n",
    "    TaskType,\n",
    "    get_peft_config,\n",
    "    PeftModel,\n",
    "    PeftConfig,\n",
    "    prepare_model_for_kbit_training\n",
    "    )\n",
    "\n",
    "from datasets import Dataset\n",
    "\n",
    "import src.config as config\n",
    "import src.config\n",
    "import src.data\n",
    "import src.model_new\n",
    "\n",
    "from src.model_working import (\n",
    "    get_prottrans_tokenizer_model,\n",
    "    df_to_dataset,\n",
    "    inject_linear_layer,\n",
    "    )\n",
    "from src.utils import get_project_root_path"
   ]
  },
  {
   "cell_type": "code",
   "execution_count": 3,
   "metadata": {},
   "outputs": [
    {
     "name": "stdout",
     "output_type": "stream",
     "text": [
      "Base Model:\t Rostlab/prot_t5_xl_uniref50\n",
      "MPS:\t\t True\n",
      "Path:\t\t /Users/finnlueth/Developer/gits/prottrans-t5-signalpeptide-prediction\n",
      "Using device:\t mps\n"
     ]
    }
   ],
   "source": [
    "base_model_name = config.base_model_name\n",
    "print(\"Base Model:\\t\", base_model_name)\n",
    "print(\"MPS:\\t\\t\", torch.backends.mps.is_available())\n",
    "ROOT = get_project_root_path()\n",
    "print(\"Path:\\t\\t\", ROOT)\n",
    "device = torch.device('cuda:0' if torch.cuda.is_available() else ('mps' if torch.backends.mps.is_available() else 'cpu'))\n",
    "print(f\"Using device:\\t {device}\")"
   ]
  },
  {
   "cell_type": "code",
   "execution_count": 4,
   "metadata": {},
   "outputs": [],
   "source": [
    "t5_tokenizer = T5Tokenizer.from_pretrained(\n",
    "        pretrained_model_name_or_path=src.config.base_model_name,\n",
    "        do_lower_case=False,\n",
    "        use_fast=True,\n",
    "        legacy=False\n",
    "    )"
   ]
  },
  {
   "cell_type": "code",
   "execution_count": 5,
   "metadata": {},
   "outputs": [],
   "source": [
    "t5_base_model = T5EncoderModel.from_pretrained(\n",
    "    pretrained_model_name_or_path=src.config.base_model_name,\n",
    "    device_map='auto',\n",
    "    load_in_8bit=False,\n",
    "    )"
   ]
  },
  {
   "cell_type": "code",
   "execution_count": 6,
   "metadata": {},
   "outputs": [],
   "source": [
    "# t5_base_model.load_adapter(ROOT+adapter_location)"
   ]
  },
  {
   "cell_type": "code",
   "execution_count": 7,
   "metadata": {},
   "outputs": [],
   "source": [
    "t5_base_model.custom_dropout = nn.Dropout(src.config.dropout_rate)\n",
    "t5_base_model.num_labels = len(src.config.label_decoding)\n",
    "\n",
    "t5_base_model.custom_classifier = nn.Linear(\n",
    "    in_features=t5_base_model.config.hidden_size,\n",
    "    out_features=t5_base_model.num_labels\n",
    ")"
   ]
  },
  {
   "cell_type": "code",
   "execution_count": 8,
   "metadata": {},
   "outputs": [],
   "source": [
    "# t5_lora_model = inject_linear_layer(\n",
    "#     t5_lora_model=t5_base_model,\n",
    "#     num_labels=len(src.config.label_decoding),\n",
    "#     dropout_rate=src.config.dropout_rate\n",
    "#     )"
   ]
  },
  {
   "cell_type": "code",
   "execution_count": 9,
   "metadata": {},
   "outputs": [],
   "source": [
    "adapter_location = '/models/testing_4'\n",
    "# model_lora_config = PeftConfig.from_pretrained(ROOT + adapter_location)"
   ]
  },
  {
   "cell_type": "code",
   "execution_count": 10,
   "metadata": {},
   "outputs": [],
   "source": [
    "t5_lora_model = PeftModel.from_pretrained(\n",
    "    model = t5_base_model,\n",
    "    is_trainable=False,\n",
    "    model_id=ROOT+adapter_location,\n",
    ")"
   ]
  },
  {
   "cell_type": "code",
   "execution_count": 11,
   "metadata": {},
   "outputs": [
    {
     "data": {
      "text/plain": [
       "Dropout(p=0.1, inplace=False)"
      ]
     },
     "execution_count": 11,
     "metadata": {},
     "output_type": "execute_result"
    }
   ],
   "source": [
    "t5_lora_model.custom_classifier.to(device)\n",
    "t5_lora_model.custom_dropout.to(device)"
   ]
  },
  {
   "cell_type": "code",
   "execution_count": 12,
   "metadata": {},
   "outputs": [],
   "source": [
    "t5_lora_model.forward = types.MethodType(src.model_working.injected_forward, t5_lora_model)"
   ]
  },
  {
   "cell_type": "code",
   "execution_count": 13,
   "metadata": {},
   "outputs": [
    {
     "data": {
      "text/plain": [
       "[('original_module.weight',\n",
       "  Parameter containing:\n",
       "  tensor([[ 0.0078, -0.0201,  0.0082,  ..., -0.0304,  0.0279, -0.0118],\n",
       "          [ 0.0308, -0.0067, -0.0065,  ..., -0.0041, -0.0081, -0.0104],\n",
       "          [ 0.0042,  0.0259, -0.0007,  ...,  0.0117,  0.0005,  0.0153],\n",
       "          [ 0.0108,  0.0231,  0.0167,  ..., -0.0299,  0.0020, -0.0265],\n",
       "          [-0.0034,  0.0022, -0.0172,  ..., -0.0180, -0.0132,  0.0005],\n",
       "          [ 0.0190, -0.0062,  0.0291,  ...,  0.0054, -0.0081, -0.0085]],\n",
       "         device='mps:0', requires_grad=True)),\n",
       " ('original_module.bias',\n",
       "  Parameter containing:\n",
       "  tensor([-0.0253,  0.0306, -0.0126,  0.0020, -0.0304, -0.0175], device='mps:0',\n",
       "         requires_grad=True)),\n",
       " ('modules_to_save.default.weight',\n",
       "  Parameter containing:\n",
       "  tensor([[ 0.0078, -0.0201,  0.0082,  ..., -0.0304,  0.0279, -0.0118],\n",
       "          [ 0.0308, -0.0067, -0.0065,  ..., -0.0041, -0.0081, -0.0104],\n",
       "          [ 0.0042,  0.0259, -0.0007,  ...,  0.0117,  0.0005,  0.0153],\n",
       "          [ 0.0108,  0.0231,  0.0167,  ..., -0.0299,  0.0020, -0.0265],\n",
       "          [-0.0034,  0.0022, -0.0172,  ..., -0.0180, -0.0132,  0.0005],\n",
       "          [ 0.0190, -0.0062,  0.0291,  ...,  0.0054, -0.0081, -0.0085]],\n",
       "         device='mps:0', requires_grad=True)),\n",
       " ('modules_to_save.default.bias',\n",
       "  Parameter containing:\n",
       "  tensor([-0.0253,  0.0306, -0.0126,  0.0020, -0.0304, -0.0175], device='mps:0',\n",
       "         requires_grad=True))]"
      ]
     },
     "execution_count": 13,
     "metadata": {},
     "output_type": "execute_result"
    }
   ],
   "source": [
    "[x for x in t5_lora_model.custom_classifier.named_parameters()]"
   ]
  },
  {
   "cell_type": "markdown",
   "metadata": {},
   "source": [
    "---"
   ]
  },
  {
   "cell_type": "code",
   "execution_count": 14,
   "metadata": {},
   "outputs": [
    {
     "name": "stderr",
     "output_type": "stream",
     "text": [
      "/Users/finnlueth/Developer/gits/prottrans-t5-signalpeptide-prediction/.venv/lib/python3.11/site-packages/datasets/table.py:1395: FutureWarning: promote has been superseded by mode='default'.\n",
      "  block_group = [InMemoryTable(cls._concat_blocks(list(block_group), axis=axis))]\n",
      "/Users/finnlueth/Developer/gits/prottrans-t5-signalpeptide-prediction/.venv/lib/python3.11/site-packages/datasets/table.py:1421: FutureWarning: promote has been superseded by mode='default'.\n",
      "  table = cls._concat_blocks(blocks, axis=0)\n"
     ]
    }
   ],
   "source": [
    "FASTA_FILENAME = '5_SignalP_5.0_Training_set.fasta'\n",
    "annotations_name = 'Label' # Choose Type or Label\n",
    "\n",
    "df_data = src.data.process(src.data.parse_file(ROOT + '/data/raw/' + FASTA_FILENAME))\n",
    "\n",
    "dataset_signalp = src.model_new.create_datasets(\n",
    "    splits=src.config.splits,\n",
    "    tokenizer=t5_tokenizer,\n",
    "    data=df_data,\n",
    "    annotations_name=annotations_name,\n",
    "    dataset_size=src.config.dataset_size,\n",
    "    encoder=src.config.select_encodings[annotations_name],\n",
    "    )\n",
    "\n",
    "del df_data"
   ]
  },
  {
   "cell_type": "markdown",
   "metadata": {},
   "source": [
    "---"
   ]
  },
  {
   "cell_type": "code",
   "execution_count": 15,
   "metadata": {},
   "outputs": [],
   "source": [
    "def predict_model(sequence: str, tokenizer: T5Tokenizer, model):\n",
    "    # print('sequence', sequence)\n",
    "    tokenized_string = tokenizer.encode(sequence, padding=True, truncation=True, return_tensors=\"pt\", max_length=1024)\n",
    "    # print('tokenized_string', tokenized_string)\n",
    "    with torch.no_grad():\n",
    "        output = model(tokenized_string.to(device))\n",
    "    # print('output', output)\n",
    "    return output\n",
    "\n",
    "def translate_logits(logits):\n",
    "    return [src.config.label_decoding[x] for x in logits.argmax(-1).tolist()[0]]"
   ]
  },
  {
   "cell_type": "code",
   "execution_count": 16,
   "metadata": {},
   "outputs": [
    {
     "name": "stdout",
     "output_type": "stream",
     "text": [
      "M A A V I L E R L G A L W V Q N L R G K L A L G I L P Q S H I H T S A S L E I S R K W E K K N K I V Y P P Q L P G E P R R P A E I Y H C R R</s>\n",
      "[0, 0, 0, 0, 0, 0, 0, 0, 0, 0, 0, 0, 0, 0, 0, 0, 0, 0, 0, 0, 0, 0, 0, 0, 0, 0, 0, 0, 0, 0, 0, 0, 0, 0, 0, 0, 0, 0, 0, 0, 0, 0, 0, 0, 0, 0, 0, 0, 0, 0, 0, 0, 0, 0, 0, 0, 0, 0, 0, 0, 0, 0, 0, 0, 0, 0, 0, 0, 0, 0]\n",
      "['I', 'I', 'I', 'I', 'I', 'I', 'I', 'I', 'I', 'I', 'I', 'I', 'I', 'I', 'I', 'I', 'I', 'I', 'I', 'I', 'I', 'I', 'I', 'I', 'I', 'I', 'I', 'I', 'I', 'I', 'I', 'I', 'I', 'I', 'I', 'I', 'I', 'I', 'I', 'I', 'I', 'I', 'I', 'I', 'I', 'I', 'I', 'I', 'I', 'I', 'I', 'I', 'I', 'I', 'I', 'I', 'I', 'I', 'I', 'I', 'I', 'I', 'I', 'I', 'I', 'I', 'I', 'I', 'I', 'I']\n"
     ]
    }
   ],
   "source": [
    "_ds_index = 2\n",
    "_ds_type = 'test'\n",
    "\n",
    "_inids_test = t5_tokenizer.decode(dataset_signalp[_ds_type][_ds_index]['input_ids'])\n",
    "_labels_test = dataset_signalp[_ds_type][_ds_index]['labels']\n",
    "_labels_test_decoded = [src.config.label_decoding[x] for x in _labels_test]\n",
    "print(_inids_test)\n",
    "print(_labels_test)\n",
    "print(_labels_test_decoded)"
   ]
  },
  {
   "cell_type": "code",
   "execution_count": 17,
   "metadata": {},
   "outputs": [
    {
     "data": {
      "text/plain": [
       "[('original_module.weight',\n",
       "  Parameter containing:\n",
       "  tensor([[ 0.0078, -0.0201,  0.0082,  ..., -0.0304,  0.0279, -0.0118],\n",
       "          [ 0.0308, -0.0067, -0.0065,  ..., -0.0041, -0.0081, -0.0104],\n",
       "          [ 0.0042,  0.0259, -0.0007,  ...,  0.0117,  0.0005,  0.0153],\n",
       "          [ 0.0108,  0.0231,  0.0167,  ..., -0.0299,  0.0020, -0.0265],\n",
       "          [-0.0034,  0.0022, -0.0172,  ..., -0.0180, -0.0132,  0.0005],\n",
       "          [ 0.0190, -0.0062,  0.0291,  ...,  0.0054, -0.0081, -0.0085]],\n",
       "         device='mps:0', requires_grad=True)),\n",
       " ('original_module.bias',\n",
       "  Parameter containing:\n",
       "  tensor([-0.0253,  0.0306, -0.0126,  0.0020, -0.0304, -0.0175], device='mps:0',\n",
       "         requires_grad=True)),\n",
       " ('modules_to_save.default.weight',\n",
       "  Parameter containing:\n",
       "  tensor([[ 0.0078, -0.0201,  0.0082,  ..., -0.0304,  0.0279, -0.0118],\n",
       "          [ 0.0308, -0.0067, -0.0065,  ..., -0.0041, -0.0081, -0.0104],\n",
       "          [ 0.0042,  0.0259, -0.0007,  ...,  0.0117,  0.0005,  0.0153],\n",
       "          [ 0.0108,  0.0231,  0.0167,  ..., -0.0299,  0.0020, -0.0265],\n",
       "          [-0.0034,  0.0022, -0.0172,  ..., -0.0180, -0.0132,  0.0005],\n",
       "          [ 0.0190, -0.0062,  0.0291,  ...,  0.0054, -0.0081, -0.0085]],\n",
       "         device='mps:0', requires_grad=True)),\n",
       " ('modules_to_save.default.bias',\n",
       "  Parameter containing:\n",
       "  tensor([-0.0253,  0.0306, -0.0126,  0.0020, -0.0304, -0.0175], device='mps:0',\n",
       "         requires_grad=True))]"
      ]
     },
     "execution_count": 17,
     "metadata": {},
     "output_type": "execute_result"
    }
   ],
   "source": [
    "[x for x in t5_lora_model.custom_classifier.named_parameters()]"
   ]
  },
  {
   "cell_type": "code",
   "execution_count": 18,
   "metadata": {},
   "outputs": [
    {
     "name": "stderr",
     "output_type": "stream",
     "text": [
      "/Users/finnlueth/Developer/gits/prottrans-t5-signalpeptide-prediction/.venv/lib/python3.11/site-packages/transformers/models/t5/tokenization_t5.py:303: UserWarning: This sequence already has </s>. In future versions this behavior may lead to duplicated eos tokens being added.\n",
      "  warnings.warn(\n"
     ]
    }
   ],
   "source": [
    "preds = predict_model(_inids_test, t5_tokenizer, t5_lora_model)"
   ]
  },
  {
   "cell_type": "code",
   "execution_count": 19,
   "metadata": {},
   "outputs": [
    {
     "name": "stdout",
     "output_type": "stream",
     "text": [
      "['I', 'L', 'L', 'O', 'O', 'O', 'T', 'T', 'M', 'M', 'M', 'I', 'O', 'O', 'T', 'L', 'M', 'T', 'M', 'M', 'M', 'O', 'M', 'M', 'O', 'O', 'M', 'M', 'O', 'M', 'O', 'T', 'T', 'I', 'L', 'S', 'I', 'T', 'S', 'I', 'T', 'T', 'M', 'S', 'T', 'T', 'O', 'T', 'L', 'O', 'L', 'O', 'O', 'S', 'L', 'O', 'O', 'S', 'O', 'T', 'T', 'O', 'O', 'T', 'O', 'L', 'L', 'L', 'T', 'O', 'L']\n"
     ]
    }
   ],
   "source": [
    "_res = translate_logits(preds.logits.cpu().numpy())\n",
    "print(_res)"
   ]
  },
  {
   "cell_type": "code",
   "execution_count": null,
   "metadata": {},
   "outputs": [],
   "source": []
  }
 ],
 "metadata": {
  "kernelspec": {
   "display_name": ".venv",
   "language": "python",
   "name": "python3"
  },
  "language_info": {
   "codemirror_mode": {
    "name": "ipython",
    "version": 3
   },
   "file_extension": ".py",
   "mimetype": "text/x-python",
   "name": "python",
   "nbconvert_exporter": "python",
   "pygments_lexer": "ipython3",
   "version": "3.11.5"
  }
 },
 "nbformat": 4,
 "nbformat_minor": 2
}
