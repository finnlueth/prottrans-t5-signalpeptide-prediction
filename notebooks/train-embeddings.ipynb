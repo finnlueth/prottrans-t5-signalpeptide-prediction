{
 "cells": [
  {
   "cell_type": "markdown",
   "metadata": {},
   "source": [
    "## Notebook Setup\n",
    "___"
   ]
  },
  {
   "cell_type": "code",
   "execution_count": 2,
   "metadata": {},
   "outputs": [],
   "source": [
    "%load_ext autoreload\n",
    "%autoreload 2"
   ]
  },
  {
   "cell_type": "markdown",
   "metadata": {},
   "source": [
    "## Packages\n",
    "___"
   ]
  },
  {
   "cell_type": "code",
   "execution_count": 17,
   "metadata": {},
   "outputs": [],
   "source": [
    "import re\n",
    "import os\n",
    "import math\n",
    "import copy\n",
    "import types\n",
    "import yaml\n",
    "\n",
    "import numpy as np\n",
    "import pandas as pd\n",
    "\n",
    "import torch\n",
    "import torch.nn as nn\n",
    "from torch.nn import (\n",
    "    CrossEntropyLoss,\n",
    "    MSELoss\n",
    ")\n",
    "\n",
    "import evaluate\n",
    "\n",
    "from transformers import (\n",
    "    AutoModelForTokenClassification,\n",
    "    AutoConfig,\n",
    "    T5EncoderModel,\n",
    "    T5Tokenizer,\n",
    "    T5PreTrainedModel,\n",
    "    T5ForConditionalGeneration,\n",
    "    pipeline,\n",
    "    DataCollatorForTokenClassification,\n",
    "    TrainingArguments,\n",
    "    Trainer,\n",
    "    set_seed,\n",
    "    )\n",
    "from transformers.modeling_outputs import TokenClassifierOutput\n",
    "\n",
    "from peft import (\n",
    "    LoraConfig,\n",
    "    get_peft_model,\n",
    "    TaskType,\n",
    "    get_peft_config,\n",
    "    PeftModel,\n",
    "    PeftConfig,\n",
    "    prepare_model_for_kbit_training\n",
    "    )\n",
    "\n",
    "from datasets import Dataset\n",
    "\n",
    "import src.config as config\n",
    "\n",
    "from src.model import (\n",
    "    get_prottrans_tokenizer_model,\n",
    "    df_to_dataset,\n",
    "    inject_linear_layer,\n",
    "    compute_metrics_full,\n",
    "    compute_metrics_fast\n",
    "    )\n",
    "from src.utils import get_project_root_path\n",
    "from tqdm import tqdm"
   ]
  },
  {
   "cell_type": "markdown",
   "metadata": {},
   "source": [
    "---\n",
    "## Setup and Variables"
   ]
  },
  {
   "cell_type": "code",
   "execution_count": 145,
   "metadata": {},
   "outputs": [
    {
     "name": "stdout",
     "output_type": "stream",
     "text": [
      "Base Model:\t Rostlab/prot_t5_xl_uniref50\n",
      "MPS:\t\t True\n",
      "Path:\t\t /Users/finnlueth/Developer/gits/prottrans-t5-signalpeptide-prediction\n",
      "Using device:\t mps\n"
     ]
    }
   ],
   "source": [
    "base_model_name = config.base_model_name\n",
    "print(\"Base Model:\\t\", base_model_name)\n",
    "print(\"MPS:\\t\\t\", torch.backends.mps.is_available())\n",
    "ROOT = get_project_root_path()\n",
    "print(\"Path:\\t\\t\", ROOT)\n",
    "device = torch.device('cuda:0' if torch.cuda.is_available() else ('mps' if torch.backends.mps.is_available() else 'cpu'))\n",
    "print(f\"Using device:\\t {device}\")"
   ]
  },
  {
   "cell_type": "code",
   "execution_count": 146,
   "metadata": {},
   "outputs": [],
   "source": [
    "lr = config.lr\n",
    "batch_size = config.batch_size\n",
    "num_epochs = config.num_epochs\n",
    "dropout_rate = config.dropout_rate\n",
    "\n",
    "label_encoding = config.label_encoding\n",
    "label_list = config.label_decoding\n",
    "\n",
    "compute_metrics = compute_metrics_fast"
   ]
  },
  {
   "cell_type": "code",
   "execution_count": 147,
   "metadata": {},
   "outputs": [],
   "source": [
    "tqdm.pandas()"
   ]
  },
  {
   "cell_type": "markdown",
   "metadata": {},
   "source": [
    "---\n",
    "## Create Tokenizer and Load Model"
   ]
  },
  {
   "cell_type": "code",
   "execution_count": 6,
   "metadata": {},
   "outputs": [],
   "source": [
    "model_architecture = T5EncoderModel\n",
    "tokenizer, model = get_prottrans_tokenizer_model(base_model_name, model_architecture)"
   ]
  },
  {
   "cell_type": "markdown",
   "metadata": {},
   "source": [
    "---\n",
    "## Load Data, Split into Dataset, and Tokenize Sequences"
   ]
  },
  {
   "cell_type": "code",
   "execution_count": 211,
   "metadata": {},
   "outputs": [],
   "source": [
    "df_data = pd.read_parquet(ROOT + '/data/processed/5.0_train.parquet.gzip')"
   ]
  },
  {
   "cell_type": "code",
   "execution_count": 212,
   "metadata": {},
   "outputs": [
    {
     "data": {
      "text/html": [
       "<div>\n",
       "<style scoped>\n",
       "    .dataframe tbody tr th:only-of-type {\n",
       "        vertical-align: middle;\n",
       "    }\n",
       "\n",
       "    .dataframe tbody tr th {\n",
       "        vertical-align: top;\n",
       "    }\n",
       "\n",
       "    .dataframe thead th {\n",
       "        text-align: right;\n",
       "    }\n",
       "</style>\n",
       "<table border=\"1\" class=\"dataframe\">\n",
       "  <thead>\n",
       "    <tr style=\"text-align: right;\">\n",
       "      <th></th>\n",
       "      <th>Sequence</th>\n",
       "      <th>Label</th>\n",
       "      <th>Split</th>\n",
       "    </tr>\n",
       "  </thead>\n",
       "  <tbody>\n",
       "    <tr>\n",
       "      <th>0</th>\n",
       "      <td>M A P T L F Q K L F S K R T G L G A P G R D A ...</td>\n",
       "      <td>[0, 0, 0, 0, 0, 0, 0, 0, 0, 0, 0, 0, 0, 0, 0, ...</td>\n",
       "      <td>train</td>\n",
       "    </tr>\n",
       "    <tr>\n",
       "      <th>1</th>\n",
       "      <td>M D F T S L E T T T F E E V V I A L G S N V G ...</td>\n",
       "      <td>[0, 0, 0, 0, 0, 0, 0, 0, 0, 0, 0, 0, 0, 0, 0, ...</td>\n",
       "      <td>train</td>\n",
       "    </tr>\n",
       "    <tr>\n",
       "      <th>2</th>\n",
       "      <td>M D D I S G R Q T L P R I N R L L E H V G N P ...</td>\n",
       "      <td>[0, 0, 0, 0, 0, 0, 0, 0, 0, 0, 0, 0, 0, 0, 0, ...</td>\n",
       "      <td>train</td>\n",
       "    </tr>\n",
       "  </tbody>\n",
       "</table>\n",
       "</div>"
      ],
      "text/plain": [
       "                                            Sequence  \\\n",
       "0  M A P T L F Q K L F S K R T G L G A P G R D A ...   \n",
       "1  M D F T S L E T T T F E E V V I A L G S N V G ...   \n",
       "2  M D D I S G R Q T L P R I N R L L E H V G N P ...   \n",
       "\n",
       "                                               Label  Split  \n",
       "0  [0, 0, 0, 0, 0, 0, 0, 0, 0, 0, 0, 0, 0, 0, 0, ...  train  \n",
       "1  [0, 0, 0, 0, 0, 0, 0, 0, 0, 0, 0, 0, 0, 0, 0, ...  train  \n",
       "2  [0, 0, 0, 0, 0, 0, 0, 0, 0, 0, 0, 0, 0, 0, 0, ...  train  "
      ]
     },
     "execution_count": 212,
     "metadata": {},
     "output_type": "execute_result"
    }
   ],
   "source": [
    "df_data.head(3)"
   ]
  },
  {
   "cell_type": "code",
   "execution_count": 213,
   "metadata": {},
   "outputs": [],
   "source": [
    "ids = tokenizer.batch_encode_plus(df_data['Sequence'], add_special_tokens=True, padding=True)"
   ]
  },
  {
   "cell_type": "code",
   "execution_count": 214,
   "metadata": {},
   "outputs": [],
   "source": [
    "df_data['input_ids'] = ids['input_ids']\n",
    "df_data['attention_mask'] = ids['attention_mask']"
   ]
  },
  {
   "cell_type": "code",
   "execution_count": 215,
   "metadata": {},
   "outputs": [
    {
     "name": "stderr",
     "output_type": "stream",
     "text": [
      "  0%|          | 0/20758 [00:00<?, ?it/s]"
     ]
    },
    {
     "name": "stderr",
     "output_type": "stream",
     "text": [
      "100%|██████████| 20758/20758 [00:00<00:00, 73815.67it/s]\n",
      "100%|██████████| 20758/20758 [00:00<00:00, 73977.99it/s]\n"
     ]
    }
   ],
   "source": [
    "df_data['input_ids'] = df_data.progress_apply(lambda x: torch.tensor(x['input_ids']).unsqueeze(0), axis=1)\n",
    "df_data['attention_mask'] = df_data.progress_apply(lambda x: torch.tensor(x['attention_mask']).unsqueeze(0), axis=1)"
   ]
  },
  {
   "cell_type": "code",
   "execution_count": 216,
   "metadata": {},
   "outputs": [
    {
     "data": {
      "text/html": [
       "<div>\n",
       "<style scoped>\n",
       "    .dataframe tbody tr th:only-of-type {\n",
       "        vertical-align: middle;\n",
       "    }\n",
       "\n",
       "    .dataframe tbody tr th {\n",
       "        vertical-align: top;\n",
       "    }\n",
       "\n",
       "    .dataframe thead th {\n",
       "        text-align: right;\n",
       "    }\n",
       "</style>\n",
       "<table border=\"1\" class=\"dataframe\">\n",
       "  <thead>\n",
       "    <tr style=\"text-align: right;\">\n",
       "      <th></th>\n",
       "      <th>Sequence</th>\n",
       "      <th>Label</th>\n",
       "      <th>Split</th>\n",
       "      <th>input_ids</th>\n",
       "      <th>attention_mask</th>\n",
       "    </tr>\n",
       "  </thead>\n",
       "  <tbody>\n",
       "    <tr>\n",
       "      <th>0</th>\n",
       "      <td>M A P T L F Q K L F S K R T G L G A P G R D A ...</td>\n",
       "      <td>[0, 0, 0, 0, 0, 0, 0, 0, 0, 0, 0, 0, 0, 0, 0, ...</td>\n",
       "      <td>train</td>\n",
       "      <td>[[tensor(19), tensor(3), tensor(13), tensor(11...</td>\n",
       "      <td>[[tensor(1), tensor(1), tensor(1), tensor(1), ...</td>\n",
       "    </tr>\n",
       "    <tr>\n",
       "      <th>1</th>\n",
       "      <td>M D F T S L E T T T F E E V V I A L G S N V G ...</td>\n",
       "      <td>[0, 0, 0, 0, 0, 0, 0, 0, 0, 0, 0, 0, 0, 0, 0, ...</td>\n",
       "      <td>train</td>\n",
       "      <td>[[tensor(19), tensor(10), tensor(15), tensor(1...</td>\n",
       "      <td>[[tensor(1), tensor(1), tensor(1), tensor(1), ...</td>\n",
       "    </tr>\n",
       "    <tr>\n",
       "      <th>2</th>\n",
       "      <td>M D D I S G R Q T L P R I N R L L E H V G N P ...</td>\n",
       "      <td>[0, 0, 0, 0, 0, 0, 0, 0, 0, 0, 0, 0, 0, 0, 0, ...</td>\n",
       "      <td>train</td>\n",
       "      <td>[[tensor(19), tensor(10), tensor(10), tensor(1...</td>\n",
       "      <td>[[tensor(1), tensor(1), tensor(1), tensor(1), ...</td>\n",
       "    </tr>\n",
       "  </tbody>\n",
       "</table>\n",
       "</div>"
      ],
      "text/plain": [
       "                                            Sequence  \\\n",
       "0  M A P T L F Q K L F S K R T G L G A P G R D A ...   \n",
       "1  M D F T S L E T T T F E E V V I A L G S N V G ...   \n",
       "2  M D D I S G R Q T L P R I N R L L E H V G N P ...   \n",
       "\n",
       "                                               Label  Split  \\\n",
       "0  [0, 0, 0, 0, 0, 0, 0, 0, 0, 0, 0, 0, 0, 0, 0, ...  train   \n",
       "1  [0, 0, 0, 0, 0, 0, 0, 0, 0, 0, 0, 0, 0, 0, 0, ...  train   \n",
       "2  [0, 0, 0, 0, 0, 0, 0, 0, 0, 0, 0, 0, 0, 0, 0, ...  train   \n",
       "\n",
       "                                           input_ids  \\\n",
       "0  [[tensor(19), tensor(3), tensor(13), tensor(11...   \n",
       "1  [[tensor(19), tensor(10), tensor(15), tensor(1...   \n",
       "2  [[tensor(19), tensor(10), tensor(10), tensor(1...   \n",
       "\n",
       "                                      attention_mask  \n",
       "0  [[tensor(1), tensor(1), tensor(1), tensor(1), ...  \n",
       "1  [[tensor(1), tensor(1), tensor(1), tensor(1), ...  \n",
       "2  [[tensor(1), tensor(1), tensor(1), tensor(1), ...  "
      ]
     },
     "execution_count": 216,
     "metadata": {},
     "output_type": "execute_result"
    }
   ],
   "source": [
    "df_data.head(3)"
   ]
  },
  {
   "cell_type": "code",
   "execution_count": 217,
   "metadata": {},
   "outputs": [
    {
     "data": {
      "text/plain": [
       "device(type='cpu')"
      ]
     },
     "execution_count": 217,
     "metadata": {},
     "output_type": "execute_result"
    }
   ],
   "source": [
    "df_data['input_ids'].at[0].device"
   ]
  },
  {
   "cell_type": "code",
   "execution_count": 218,
   "metadata": {},
   "outputs": [
    {
     "name": "stderr",
     "output_type": "stream",
     "text": [
      "  0%|          | 0/20758 [00:00<?, ?it/s]"
     ]
    },
    {
     "name": "stderr",
     "output_type": "stream",
     "text": [
      "100%|██████████| 20758/20758 [00:03<00:00, 6303.89it/s]\n",
      "100%|██████████| 20758/20758 [00:03<00:00, 6304.32it/s]\n"
     ]
    }
   ],
   "source": [
    "df_data['input_ids'] = df_data['input_ids'].progress_apply(lambda x: x.to(device))\n",
    "df_data['attention_mask'] = df_data['attention_mask'].progress_apply(lambda x: x.to(device))"
   ]
  },
  {
   "cell_type": "markdown",
   "metadata": {},
   "source": [
    "---\n",
    "## Feature Extraction"
   ]
  },
  {
   "cell_type": "code",
   "execution_count": 219,
   "metadata": {},
   "outputs": [
    {
     "name": "stdout",
     "output_type": "stream",
     "text": [
      "Model loaded to mps.\n"
     ]
    }
   ],
   "source": [
    "model.to(device)\n",
    "model.eval()\n",
    "print(f\"Model loaded to {device}.\")"
   ]
  },
  {
   "cell_type": "code",
   "execution_count": 223,
   "metadata": {},
   "outputs": [
    {
     "name": "stderr",
     "output_type": "stream",
     "text": [
      "  0%|          | 0/20758 [00:00<?, ?it/s]"
     ]
    },
    {
     "name": "stderr",
     "output_type": "stream",
     "text": [
      " 14%|█▍        | 2958/20758 [17:49<1:46:26,  2.79it/s]"
     ]
    }
   ],
   "source": [
    "with torch.no_grad():\n",
    "    df_data['embeddings'] = df_data.progress_apply(lambda x: model(x['input_ids'], x['attention_mask']), axis=1)"
   ]
  },
  {
   "cell_type": "code",
   "execution_count": 222,
   "metadata": {},
   "outputs": [
    {
     "data": {
      "text/html": [
       "<div>\n",
       "<style scoped>\n",
       "    .dataframe tbody tr th:only-of-type {\n",
       "        vertical-align: middle;\n",
       "    }\n",
       "\n",
       "    .dataframe tbody tr th {\n",
       "        vertical-align: top;\n",
       "    }\n",
       "\n",
       "    .dataframe thead th {\n",
       "        text-align: right;\n",
       "    }\n",
       "</style>\n",
       "<table border=\"1\" class=\"dataframe\">\n",
       "  <thead>\n",
       "    <tr style=\"text-align: right;\">\n",
       "      <th></th>\n",
       "      <th>Sequence</th>\n",
       "      <th>Label</th>\n",
       "      <th>Split</th>\n",
       "      <th>input_ids</th>\n",
       "      <th>attention_mask</th>\n",
       "    </tr>\n",
       "  </thead>\n",
       "  <tbody>\n",
       "    <tr>\n",
       "      <th>0</th>\n",
       "      <td>M A P T L F Q K L F S K R T G L G A P G R D A ...</td>\n",
       "      <td>[0, 0, 0, 0, 0, 0, 0, 0, 0, 0, 0, 0, 0, 0, 0, ...</td>\n",
       "      <td>train</td>\n",
       "      <td>[[tensor(19, device='mps:0'), tensor(3, device...</td>\n",
       "      <td>[[tensor(1, device='mps:0'), tensor(1, device=...</td>\n",
       "    </tr>\n",
       "    <tr>\n",
       "      <th>1</th>\n",
       "      <td>M D F T S L E T T T F E E V V I A L G S N V G ...</td>\n",
       "      <td>[0, 0, 0, 0, 0, 0, 0, 0, 0, 0, 0, 0, 0, 0, 0, ...</td>\n",
       "      <td>train</td>\n",
       "      <td>[[tensor(19, device='mps:0'), tensor(10, devic...</td>\n",
       "      <td>[[tensor(1, device='mps:0'), tensor(1, device=...</td>\n",
       "    </tr>\n",
       "    <tr>\n",
       "      <th>2</th>\n",
       "      <td>M D D I S G R Q T L P R I N R L L E H V G N P ...</td>\n",
       "      <td>[0, 0, 0, 0, 0, 0, 0, 0, 0, 0, 0, 0, 0, 0, 0, ...</td>\n",
       "      <td>train</td>\n",
       "      <td>[[tensor(19, device='mps:0'), tensor(10, devic...</td>\n",
       "      <td>[[tensor(1, device='mps:0'), tensor(1, device=...</td>\n",
       "    </tr>\n",
       "    <tr>\n",
       "      <th>3</th>\n",
       "      <td>M L G T V K M E G H E T S D W N S Y Y A D T Q ...</td>\n",
       "      <td>[0, 0, 0, 0, 0, 0, 0, 0, 0, 0, 0, 0, 0, 0, 0, ...</td>\n",
       "      <td>test</td>\n",
       "      <td>[[tensor(19, device='mps:0'), tensor(4, device...</td>\n",
       "      <td>[[tensor(1, device='mps:0'), tensor(1, device=...</td>\n",
       "    </tr>\n",
       "    <tr>\n",
       "      <th>4</th>\n",
       "      <td>M L G A V K M E G H E P S D W S S Y Y A E P E ...</td>\n",
       "      <td>[0, 0, 0, 0, 0, 0, 0, 0, 0, 0, 0, 0, 0, 0, 0, ...</td>\n",
       "      <td>test</td>\n",
       "      <td>[[tensor(19, device='mps:0'), tensor(4, device...</td>\n",
       "      <td>[[tensor(1, device='mps:0'), tensor(1, device=...</td>\n",
       "    </tr>\n",
       "  </tbody>\n",
       "</table>\n",
       "</div>"
      ],
      "text/plain": [
       "                                            Sequence  \\\n",
       "0  M A P T L F Q K L F S K R T G L G A P G R D A ...   \n",
       "1  M D F T S L E T T T F E E V V I A L G S N V G ...   \n",
       "2  M D D I S G R Q T L P R I N R L L E H V G N P ...   \n",
       "3  M L G T V K M E G H E T S D W N S Y Y A D T Q ...   \n",
       "4  M L G A V K M E G H E P S D W S S Y Y A E P E ...   \n",
       "\n",
       "                                               Label  Split  \\\n",
       "0  [0, 0, 0, 0, 0, 0, 0, 0, 0, 0, 0, 0, 0, 0, 0, ...  train   \n",
       "1  [0, 0, 0, 0, 0, 0, 0, 0, 0, 0, 0, 0, 0, 0, 0, ...  train   \n",
       "2  [0, 0, 0, 0, 0, 0, 0, 0, 0, 0, 0, 0, 0, 0, 0, ...  train   \n",
       "3  [0, 0, 0, 0, 0, 0, 0, 0, 0, 0, 0, 0, 0, 0, 0, ...   test   \n",
       "4  [0, 0, 0, 0, 0, 0, 0, 0, 0, 0, 0, 0, 0, 0, 0, ...   test   \n",
       "\n",
       "                                           input_ids  \\\n",
       "0  [[tensor(19, device='mps:0'), tensor(3, device...   \n",
       "1  [[tensor(19, device='mps:0'), tensor(10, devic...   \n",
       "2  [[tensor(19, device='mps:0'), tensor(10, devic...   \n",
       "3  [[tensor(19, device='mps:0'), tensor(4, device...   \n",
       "4  [[tensor(19, device='mps:0'), tensor(4, device...   \n",
       "\n",
       "                                      attention_mask  \n",
       "0  [[tensor(1, device='mps:0'), tensor(1, device=...  \n",
       "1  [[tensor(1, device='mps:0'), tensor(1, device=...  \n",
       "2  [[tensor(1, device='mps:0'), tensor(1, device=...  \n",
       "3  [[tensor(1, device='mps:0'), tensor(1, device=...  \n",
       "4  [[tensor(1, device='mps:0'), tensor(1, device=...  "
      ]
     },
     "metadata": {},
     "output_type": "display_data"
    },
    {
     "data": {
      "text/html": [
       "<div>\n",
       "<style scoped>\n",
       "    .dataframe tbody tr th:only-of-type {\n",
       "        vertical-align: middle;\n",
       "    }\n",
       "\n",
       "    .dataframe tbody tr th {\n",
       "        vertical-align: top;\n",
       "    }\n",
       "\n",
       "    .dataframe thead th {\n",
       "        text-align: right;\n",
       "    }\n",
       "</style>\n",
       "<table border=\"1\" class=\"dataframe\">\n",
       "  <thead>\n",
       "    <tr style=\"text-align: right;\">\n",
       "      <th></th>\n",
       "      <th>Sequence</th>\n",
       "      <th>Label</th>\n",
       "      <th>Split</th>\n",
       "      <th>input_ids</th>\n",
       "      <th>attention_mask</th>\n",
       "    </tr>\n",
       "  </thead>\n",
       "  <tbody>\n",
       "    <tr>\n",
       "      <th>20753</th>\n",
       "      <td>M Q T Q V L F E H P L N E K M R T W L R I E F ...</td>\n",
       "      <td>[0, 0, 0, 0, 0, 0, 0, 0, 0, 0, 0, 0, 0, 0, 0, ...</td>\n",
       "      <td>test</td>\n",
       "      <td>[[tensor(19, device='mps:0'), tensor(16, devic...</td>\n",
       "      <td>[[tensor(1, device='mps:0'), tensor(1, device=...</td>\n",
       "    </tr>\n",
       "    <tr>\n",
       "      <th>20754</th>\n",
       "      <td>M Q S V T P T S Q Y L K A L N E G S H Q P D D ...</td>\n",
       "      <td>[0, 0, 0, 0, 0, 0, 0, 0, 0, 0, 0, 0, 0, 0, 0, ...</td>\n",
       "      <td>train</td>\n",
       "      <td>[[tensor(19, device='mps:0'), tensor(16, devic...</td>\n",
       "      <td>[[tensor(1, device='mps:0'), tensor(1, device=...</td>\n",
       "    </tr>\n",
       "    <tr>\n",
       "      <th>20755</th>\n",
       "      <td>M R I F V Y G S L R T K Q G N S H W M T N A L ...</td>\n",
       "      <td>[0, 0, 0, 0, 0, 0, 0, 0, 0, 0, 0, 0, 0, 0, 0, ...</td>\n",
       "      <td>train</td>\n",
       "      <td>[[tensor(19, device='mps:0'), tensor(8, device...</td>\n",
       "      <td>[[tensor(1, device='mps:0'), tensor(1, device=...</td>\n",
       "    </tr>\n",
       "    <tr>\n",
       "      <th>20756</th>\n",
       "      <td>M T M S L E V F E K L E A K V Q Q A I D T I T ...</td>\n",
       "      <td>[0, 0, 0, 0, 0, 0, 0, 0, 0, 0, 0, 0, 0, 0, 0, ...</td>\n",
       "      <td>train</td>\n",
       "      <td>[[tensor(19, device='mps:0'), tensor(11, devic...</td>\n",
       "      <td>[[tensor(1, device='mps:0'), tensor(1, device=...</td>\n",
       "    </tr>\n",
       "    <tr>\n",
       "      <th>20757</th>\n",
       "      <td>M S A Q P V D I Q I F G R S L R V N C P P D Q ...</td>\n",
       "      <td>[0, 0, 0, 0, 0, 0, 0, 0, 0, 0, 0, 0, 0, 0, 0, ...</td>\n",
       "      <td>train</td>\n",
       "      <td>[[tensor(19, device='mps:0'), tensor(7, device...</td>\n",
       "      <td>[[tensor(1, device='mps:0'), tensor(1, device=...</td>\n",
       "    </tr>\n",
       "  </tbody>\n",
       "</table>\n",
       "</div>"
      ],
      "text/plain": [
       "                                                Sequence  \\\n",
       "20753  M Q T Q V L F E H P L N E K M R T W L R I E F ...   \n",
       "20754  M Q S V T P T S Q Y L K A L N E G S H Q P D D ...   \n",
       "20755  M R I F V Y G S L R T K Q G N S H W M T N A L ...   \n",
       "20756  M T M S L E V F E K L E A K V Q Q A I D T I T ...   \n",
       "20757  M S A Q P V D I Q I F G R S L R V N C P P D Q ...   \n",
       "\n",
       "                                                   Label  Split  \\\n",
       "20753  [0, 0, 0, 0, 0, 0, 0, 0, 0, 0, 0, 0, 0, 0, 0, ...   test   \n",
       "20754  [0, 0, 0, 0, 0, 0, 0, 0, 0, 0, 0, 0, 0, 0, 0, ...  train   \n",
       "20755  [0, 0, 0, 0, 0, 0, 0, 0, 0, 0, 0, 0, 0, 0, 0, ...  train   \n",
       "20756  [0, 0, 0, 0, 0, 0, 0, 0, 0, 0, 0, 0, 0, 0, 0, ...  train   \n",
       "20757  [0, 0, 0, 0, 0, 0, 0, 0, 0, 0, 0, 0, 0, 0, 0, ...  train   \n",
       "\n",
       "                                               input_ids  \\\n",
       "20753  [[tensor(19, device='mps:0'), tensor(16, devic...   \n",
       "20754  [[tensor(19, device='mps:0'), tensor(16, devic...   \n",
       "20755  [[tensor(19, device='mps:0'), tensor(8, device...   \n",
       "20756  [[tensor(19, device='mps:0'), tensor(11, devic...   \n",
       "20757  [[tensor(19, device='mps:0'), tensor(7, device...   \n",
       "\n",
       "                                          attention_mask  \n",
       "20753  [[tensor(1, device='mps:0'), tensor(1, device=...  \n",
       "20754  [[tensor(1, device='mps:0'), tensor(1, device=...  \n",
       "20755  [[tensor(1, device='mps:0'), tensor(1, device=...  \n",
       "20756  [[tensor(1, device='mps:0'), tensor(1, device=...  \n",
       "20757  [[tensor(1, device='mps:0'), tensor(1, device=...  "
      ]
     },
     "metadata": {},
     "output_type": "display_data"
    }
   ],
   "source": [
    "display(df_data.head())\n",
    "display(df_data.tail())"
   ]
  },
  {
   "cell_type": "code",
   "execution_count": null,
   "metadata": {},
   "outputs": [],
   "source": [
    "df_data.to_parquet(ROOT + '/data/processed/5.0_train_embeddings.parquet.gzip', compression='gzip')"
   ]
  },
  {
   "cell_type": "markdown",
   "metadata": {},
   "source": [
    "---\n",
    "## Model"
   ]
  },
  {
   "cell_type": "markdown",
   "metadata": {},
   "source": []
  }
 ],
 "metadata": {
  "kernelspec": {
   "display_name": ".venv",
   "language": "python",
   "name": "python3"
  },
  "language_info": {
   "codemirror_mode": {
    "name": "ipython",
    "version": 3
   },
   "file_extension": ".py",
   "mimetype": "text/x-python",
   "name": "python",
   "nbconvert_exporter": "python",
   "pygments_lexer": "ipython3",
   "version": "3.11.5"
  }
 },
 "nbformat": 4,
 "nbformat_minor": 2
}
