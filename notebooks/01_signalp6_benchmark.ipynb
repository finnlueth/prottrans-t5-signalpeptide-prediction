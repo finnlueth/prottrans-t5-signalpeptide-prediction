{
 "cells": [
  {
   "cell_type": "code",
   "execution_count": 1,
   "metadata": {},
   "outputs": [],
   "source": [
    "%load_ext autoreload\n",
    "%autoreload 2"
   ]
  },
  {
   "cell_type": "code",
   "execution_count": 2,
   "metadata": {},
   "outputs": [
    {
     "name": "stderr",
     "output_type": "stream",
     "text": [
      "/Users/finnlueth/Developer/gits/prottrans-t5-signalpeptide-prediction/.venv/lib/python3.11/site-packages/bitsandbytes/cextension.py:34: UserWarning: The installed version of bitsandbytes was compiled without GPU support. 8-bit optimizers, 8-bit multiplication, and GPU quantization are unavailable.\n",
      "  warn(\"The installed version of bitsandbytes was compiled without GPU support. \"\n"
     ]
    },
    {
     "name": "stdout",
     "output_type": "stream",
     "text": [
      "'NoneType' object has no attribute 'cadam32bit_grad_fp32'\n"
     ]
    }
   ],
   "source": [
    "import pandas as pd\n",
    "import os\n",
    "from src.utils import get_project_root_path\n",
    "import src.config as config"
   ]
  },
  {
   "cell_type": "code",
   "execution_count": 3,
   "metadata": {},
   "outputs": [],
   "source": [
    "pd.set_option('display.max_columns', 100)\n",
    "pd.set_option('display.max_rows', 100)\n",
    "pd.set_option('display.max_colwidth', None)"
   ]
  },
  {
   "cell_type": "code",
   "execution_count": 4,
   "metadata": {},
   "outputs": [],
   "source": [
    "ROOT = get_project_root_path()"
   ]
  },
  {
   "cell_type": "code",
   "execution_count": 5,
   "metadata": {},
   "outputs": [],
   "source": [
    "directory = ROOT + '/data/raw/split_4/'"
   ]
  },
  {
   "cell_type": "code",
   "execution_count": 6,
   "metadata": {},
   "outputs": [],
   "source": [
    "dirs = os.listdir(directory)\n",
    "tsv_files = [f for f in dirs if f.startswith('output_') and f.endswith('.txt')]"
   ]
  },
  {
   "cell_type": "code",
   "execution_count": 7,
   "metadata": {},
   "outputs": [],
   "source": [
    "def process_label(label: str) -> str:\n",
    "    result = [*label]\n",
    "    for i, char in enumerate(result):\n",
    "        if char == 'c':\n",
    "            result[i] = result[i-1]\n",
    "    return ''.join(result)"
   ]
  },
  {
   "cell_type": "code",
   "execution_count": 11,
   "metadata": {},
   "outputs": [],
   "source": [
    "results = {}\n",
    "for file in tsv_files:\n",
    "    df_head = pd.read_csv(directory + file, sep='\\t', nrows=0)\n",
    "    df_body = pd.read_csv(directory + file, sep='\\t', skiprows=1)\n",
    "    label = ''.join(df_body.label.to_list())\n",
    "    label = process_label(label)\n",
    "    results.update({df_head.columns[0].replace('# Name=', '').split('|')[0]: label})"
   ]
  },
  {
   "cell_type": "code",
   "execution_count": 8,
   "metadata": {},
   "outputs": [],
   "source": [
    "ground_truth = pd.read_parquet(ROOT + '/data/processed/5.0_train_full.parquet.gzip')"
   ]
  },
  {
   "cell_type": "code",
   "execution_count": 9,
   "metadata": {},
   "outputs": [],
   "source": [
    "ground_truth.Label = ground_truth.Label.apply(lambda x: ''.join(config.label_decoding[y] for y in x))\n",
    "ground_truth.Sequence = ground_truth.Sequence.apply(lambda x: x.replace(' ', ''))"
   ]
  },
  {
   "cell_type": "code",
   "execution_count": 12,
   "metadata": {},
   "outputs": [],
   "source": [
    "df_final = pd.DataFrame.from_dict(results, orient='index', columns=['SignalP6_predicted_labels']).join(ground_truth.set_index('Uniprot_AC'))"
   ]
  },
  {
   "cell_type": "code",
   "execution_count": null,
   "metadata": {},
   "outputs": [],
   "source": [
    "# df_final[['SignalP6_predicted_labels', 'Label']].head()"
   ]
  },
  {
   "cell_type": "code",
   "execution_count": 25,
   "metadata": {},
   "outputs": [
    {
     "data": {
      "text/html": [
       "<div>\n",
       "<style scoped>\n",
       "    .dataframe tbody tr th:only-of-type {\n",
       "        vertical-align: middle;\n",
       "    }\n",
       "\n",
       "    .dataframe tbody tr th {\n",
       "        vertical-align: top;\n",
       "    }\n",
       "\n",
       "    .dataframe thead th {\n",
       "        text-align: right;\n",
       "    }\n",
       "</style>\n",
       "<table border=\"1\" class=\"dataframe\">\n",
       "  <thead>\n",
       "    <tr style=\"text-align: right;\">\n",
       "      <th></th>\n",
       "      <th>SignalP6_predicted_labels</th>\n",
       "      <th>Kingdom</th>\n",
       "      <th>Type</th>\n",
       "      <th>Partition_No</th>\n",
       "      <th>Sequence</th>\n",
       "      <th>Label</th>\n",
       "      <th>Split</th>\n",
       "    </tr>\n",
       "  </thead>\n",
       "  <tbody>\n",
       "    <tr>\n",
       "      <th>O99019</th>\n",
       "      <td>OOOOOOOOOOOOOOOOOOOOOOOOOOOOOOOOOOOOOOOOOOOOOOOOOOOOOOOOOOOOOOOOOOOOOO</td>\n",
       "      <td>EUKARYA</td>\n",
       "      <td>NO_SP</td>\n",
       "      <td>4</td>\n",
       "      <td>MASISSLNQIPCKTLQITSQYSKPTSKISTLPISSTNFLSKTEQHRSISVKEFTNPKPKFTAQATNYDKE</td>\n",
       "      <td>IIIIIIIIIIIIIIIIIIIIIIIIIIIIIIIIIIIIIIIIIIIIIIIIIIIIIIIIIIIIIIIIIIIIII</td>\n",
       "      <td>4</td>\n",
       "    </tr>\n",
       "    <tr>\n",
       "      <th>P02739</th>\n",
       "      <td>NNHHHHHHHHHHHHCCCCOOOOOOOOOOOOOOOOOOOOOOOOOOOOOOOOOOOOOOOOOOOOOOOOOOOO</td>\n",
       "      <td>EUKARYA</td>\n",
       "      <td>SP</td>\n",
       "      <td>4</td>\n",
       "      <td>MKLFTGLIFCSLVLGVSSQWYSFIGEAVQGAWDMYRAYSDMREANYKNSDKYFHARGNYDAAQRGPGGAW</td>\n",
       "      <td>SSSSSSSSSSSSSSSSSSOOOOOOOOOOOOOOOOOOOOOOOOOOOOOOOOOOOOOOOOOOOOOOOOOOOO</td>\n",
       "      <td>4</td>\n",
       "    </tr>\n",
       "    <tr>\n",
       "      <th>P43319</th>\n",
       "      <td>NNNHHHHHHHHHHHHCCCCCOOOOOOOOOOOOOOOOOOOOOOOOOOOOOOOOOOOOOOOOOOOOOOOOOO</td>\n",
       "      <td>NEGATIVE</td>\n",
       "      <td>LIPO</td>\n",
       "      <td>4</td>\n",
       "      <td>MKRAPLITGLLLISTSCAYASSGGCGADSTSGATNYSSVVDDVTVNQTDNVTGREFTSATLSSTNWQYAC</td>\n",
       "      <td>LLLLLLLLLLLLLLLLOOOOOOOOOOOOOOOOOOOOOOOOOOOOOOOOOOOOOOOOOOOOOOOOOOOOOO</td>\n",
       "      <td>4</td>\n",
       "    </tr>\n",
       "    <tr>\n",
       "      <th>Q8BUN5</th>\n",
       "      <td>OOOOOOOOOOOOOOOOOOOOOOOOOOOOOOOOOOOOOOOOOOOOOOOOOOOOOOOOOOOOOOOOOOOOOO</td>\n",
       "      <td>EUKARYA</td>\n",
       "      <td>NO_SP</td>\n",
       "      <td>4</td>\n",
       "      <td>MSSILPFTPPIVKRLLGWKKGEQNGQEEKWCEKAVKSLVKKLKKTGQLDELEKAITTQNVNTKCITIPRS</td>\n",
       "      <td>IIIIIIIIIIIIIIIIIIIIIIIIIIIIIIIIIIIIIIIIIIIIIIIIIIIIIIIIIIIIIIIIIIIIII</td>\n",
       "      <td>4</td>\n",
       "    </tr>\n",
       "    <tr>\n",
       "      <th>A7MLE5</th>\n",
       "      <td>NNNRRNHHHHHHHHHHHHHHHHHHHHHCCCCCOOOOOOOOOOOOOOOOOOOOOOOOOOOOOOOOOOOOOO</td>\n",
       "      <td>NEGATIVE</td>\n",
       "      <td>TAT</td>\n",
       "      <td>4</td>\n",
       "      <td>MNRRRFIKASLALAAACGTPGLATLFSRNAWAQESDIADGQTRAFDFSVLQAMASELAQKPWGGAPRPLP</td>\n",
       "      <td>TTTTTTTTTTTTTTTTTTTTTTTTTTTTTTTTOOOOOOOOOOOOOOOOOOOOOOOOOOOOOOOOOOOOOO</td>\n",
       "      <td>4</td>\n",
       "    </tr>\n",
       "    <tr>\n",
       "      <th>...</th>\n",
       "      <td>...</td>\n",
       "      <td>...</td>\n",
       "      <td>...</td>\n",
       "      <td>...</td>\n",
       "      <td>...</td>\n",
       "      <td>...</td>\n",
       "      <td>...</td>\n",
       "    </tr>\n",
       "    <tr>\n",
       "      <th>Q9UTN4</th>\n",
       "      <td>OOOOOOOOOOOOOOOOOOOOOOOOOOOOOOOOOOOOOOOOOOOOOOOOOOOOOOOOOOOOOOOOOOOOOO</td>\n",
       "      <td>EUKARYA</td>\n",
       "      <td>NO_SP</td>\n",
       "      <td>4</td>\n",
       "      <td>MERAENARIIQKPMTRRTVDYGSGLSKYIVNRHLRSNRYHIHVPRPNPNQIINLYPPYEYKYNNTSSLCT</td>\n",
       "      <td>IIIIIIIIIIIIIIIIIIIIIIIIIIIIIIIIIIIIIIIIIIIIIIIIIIIIIIIIIIIIIIIIIIIIII</td>\n",
       "      <td>4</td>\n",
       "    </tr>\n",
       "    <tr>\n",
       "      <th>Q86W10</th>\n",
       "      <td>OOOOOOOOOOOOOOOOOOOOOOOOOOOOOOOOOOOOOOOOOOOOOOOOOOOOOOOOOOOOOOOOOOOOOO</td>\n",
       "      <td>EUKARYA</td>\n",
       "      <td>NO_SP</td>\n",
       "      <td>4</td>\n",
       "      <td>MEPSWLQELMAHPFLLLILLCMSLLLFQVIRLYQRRRWMIRALHLFPAPPAHWFYGHKEFYPVKEFEVYH</td>\n",
       "      <td>IIIIIIIIIMMMMMMMMMMMMMMMMMMMMMOOOOOOOOOOOOOOOOOOOOOOOOOOOOOOOOOOOOOOOO</td>\n",
       "      <td>4</td>\n",
       "    </tr>\n",
       "    <tr>\n",
       "      <th>Q6Q6R3</th>\n",
       "      <td>OOOOOOOOOOOOOOOOOOOOOOOOOOOOOOOOOOOOOOOOOOOOOOOOOOOOOOOOOOOOOOOOOOOOOO</td>\n",
       "      <td>EUKARYA</td>\n",
       "      <td>NO_SP</td>\n",
       "      <td>4</td>\n",
       "      <td>MSWTCPRCQQPVYFAEKVSSLGKNWHRFCLKCERCHSILSPGGHAEHNGRPYCHKPCYGALFGPRGVNIG</td>\n",
       "      <td>IIIIIIIIIIIIIIIIIIIIIIIIIIIIIIIIIIIIIIIIIIIIIIIIIIIIIIIIIIIIIIIIIIIIII</td>\n",
       "      <td>4</td>\n",
       "    </tr>\n",
       "    <tr>\n",
       "      <th>Q9BDB7</th>\n",
       "      <td>OOOOOOOOOOOOOOOOOOOOOOOOOOOOOOOOOOOOOOOOOOOOOOOOOOOOOOOOOOOOOOOOOOOOOO</td>\n",
       "      <td>EUKARYA</td>\n",
       "      <td>NO_SP</td>\n",
       "      <td>4</td>\n",
       "      <td>MKVTARLTWIEEKILEKLLGNASLTLLYQSSAHKNCVSEMTQKYSLQGSTMTVFHLEKDVVVGVFILENF</td>\n",
       "      <td>IIIIIIIIIIIIIIIIIIIIIIIIIIIIIIIIIIIIIIIIIIIIIIIIIIIIIIIIIIIIIIIIIIIIII</td>\n",
       "      <td>4</td>\n",
       "    </tr>\n",
       "    <tr>\n",
       "      <th>O60121</th>\n",
       "      <td>OOOOOOOOOOOOOOOOOOOOOOOOOOOOOOOOOOOOOOOOOOOOOOOOOOOOOOOOOOOOOOOOOOOOOO</td>\n",
       "      <td>EUKARYA</td>\n",
       "      <td>NO_SP</td>\n",
       "      <td>4</td>\n",
       "      <td>MLKLFLSTPRTLPNSRFLLLRRLQPLGLRYRSDASSLHLFTPTWRDHATNTIIKFVPQQVAYVVERMGRF</td>\n",
       "      <td>IIIIIIIIIIIIIIIIIIIIIIIIIIIIIIIIIIIIIIIIIIIIIIIIIIIIIIIIIIIIIIIIIIIIII</td>\n",
       "      <td>4</td>\n",
       "    </tr>\n",
       "  </tbody>\n",
       "</table>\n",
       "<p>4147 rows × 7 columns</p>\n",
       "</div>"
      ],
      "text/plain": [
       "                                                     SignalP6_predicted_labels  \\\n",
       "O99019  OOOOOOOOOOOOOOOOOOOOOOOOOOOOOOOOOOOOOOOOOOOOOOOOOOOOOOOOOOOOOOOOOOOOOO   \n",
       "P02739  NNHHHHHHHHHHHHCCCCOOOOOOOOOOOOOOOOOOOOOOOOOOOOOOOOOOOOOOOOOOOOOOOOOOOO   \n",
       "P43319  NNNHHHHHHHHHHHHCCCCCOOOOOOOOOOOOOOOOOOOOOOOOOOOOOOOOOOOOOOOOOOOOOOOOOO   \n",
       "Q8BUN5  OOOOOOOOOOOOOOOOOOOOOOOOOOOOOOOOOOOOOOOOOOOOOOOOOOOOOOOOOOOOOOOOOOOOOO   \n",
       "A7MLE5  NNNRRNHHHHHHHHHHHHHHHHHHHHHCCCCCOOOOOOOOOOOOOOOOOOOOOOOOOOOOOOOOOOOOOO   \n",
       "...                                                                        ...   \n",
       "Q9UTN4  OOOOOOOOOOOOOOOOOOOOOOOOOOOOOOOOOOOOOOOOOOOOOOOOOOOOOOOOOOOOOOOOOOOOOO   \n",
       "Q86W10  OOOOOOOOOOOOOOOOOOOOOOOOOOOOOOOOOOOOOOOOOOOOOOOOOOOOOOOOOOOOOOOOOOOOOO   \n",
       "Q6Q6R3  OOOOOOOOOOOOOOOOOOOOOOOOOOOOOOOOOOOOOOOOOOOOOOOOOOOOOOOOOOOOOOOOOOOOOO   \n",
       "Q9BDB7  OOOOOOOOOOOOOOOOOOOOOOOOOOOOOOOOOOOOOOOOOOOOOOOOOOOOOOOOOOOOOOOOOOOOOO   \n",
       "O60121  OOOOOOOOOOOOOOOOOOOOOOOOOOOOOOOOOOOOOOOOOOOOOOOOOOOOOOOOOOOOOOOOOOOOOO   \n",
       "\n",
       "         Kingdom   Type Partition_No  \\\n",
       "O99019   EUKARYA  NO_SP            4   \n",
       "P02739   EUKARYA     SP            4   \n",
       "P43319  NEGATIVE   LIPO            4   \n",
       "Q8BUN5   EUKARYA  NO_SP            4   \n",
       "A7MLE5  NEGATIVE    TAT            4   \n",
       "...          ...    ...          ...   \n",
       "Q9UTN4   EUKARYA  NO_SP            4   \n",
       "Q86W10   EUKARYA  NO_SP            4   \n",
       "Q6Q6R3   EUKARYA  NO_SP            4   \n",
       "Q9BDB7   EUKARYA  NO_SP            4   \n",
       "O60121   EUKARYA  NO_SP            4   \n",
       "\n",
       "                                                                      Sequence  \\\n",
       "O99019  MASISSLNQIPCKTLQITSQYSKPTSKISTLPISSTNFLSKTEQHRSISVKEFTNPKPKFTAQATNYDKE   \n",
       "P02739  MKLFTGLIFCSLVLGVSSQWYSFIGEAVQGAWDMYRAYSDMREANYKNSDKYFHARGNYDAAQRGPGGAW   \n",
       "P43319  MKRAPLITGLLLISTSCAYASSGGCGADSTSGATNYSSVVDDVTVNQTDNVTGREFTSATLSSTNWQYAC   \n",
       "Q8BUN5  MSSILPFTPPIVKRLLGWKKGEQNGQEEKWCEKAVKSLVKKLKKTGQLDELEKAITTQNVNTKCITIPRS   \n",
       "A7MLE5  MNRRRFIKASLALAAACGTPGLATLFSRNAWAQESDIADGQTRAFDFSVLQAMASELAQKPWGGAPRPLP   \n",
       "...                                                                        ...   \n",
       "Q9UTN4  MERAENARIIQKPMTRRTVDYGSGLSKYIVNRHLRSNRYHIHVPRPNPNQIINLYPPYEYKYNNTSSLCT   \n",
       "Q86W10  MEPSWLQELMAHPFLLLILLCMSLLLFQVIRLYQRRRWMIRALHLFPAPPAHWFYGHKEFYPVKEFEVYH   \n",
       "Q6Q6R3  MSWTCPRCQQPVYFAEKVSSLGKNWHRFCLKCERCHSILSPGGHAEHNGRPYCHKPCYGALFGPRGVNIG   \n",
       "Q9BDB7  MKVTARLTWIEEKILEKLLGNASLTLLYQSSAHKNCVSEMTQKYSLQGSTMTVFHLEKDVVVGVFILENF   \n",
       "O60121  MLKLFLSTPRTLPNSRFLLLRRLQPLGLRYRSDASSLHLFTPTWRDHATNTIIKFVPQQVAYVVERMGRF   \n",
       "\n",
       "                                                                         Label  \\\n",
       "O99019  IIIIIIIIIIIIIIIIIIIIIIIIIIIIIIIIIIIIIIIIIIIIIIIIIIIIIIIIIIIIIIIIIIIIII   \n",
       "P02739  SSSSSSSSSSSSSSSSSSOOOOOOOOOOOOOOOOOOOOOOOOOOOOOOOOOOOOOOOOOOOOOOOOOOOO   \n",
       "P43319  LLLLLLLLLLLLLLLLOOOOOOOOOOOOOOOOOOOOOOOOOOOOOOOOOOOOOOOOOOOOOOOOOOOOOO   \n",
       "Q8BUN5  IIIIIIIIIIIIIIIIIIIIIIIIIIIIIIIIIIIIIIIIIIIIIIIIIIIIIIIIIIIIIIIIIIIIII   \n",
       "A7MLE5  TTTTTTTTTTTTTTTTTTTTTTTTTTTTTTTTOOOOOOOOOOOOOOOOOOOOOOOOOOOOOOOOOOOOOO   \n",
       "...                                                                        ...   \n",
       "Q9UTN4  IIIIIIIIIIIIIIIIIIIIIIIIIIIIIIIIIIIIIIIIIIIIIIIIIIIIIIIIIIIIIIIIIIIIII   \n",
       "Q86W10  IIIIIIIIIMMMMMMMMMMMMMMMMMMMMMOOOOOOOOOOOOOOOOOOOOOOOOOOOOOOOOOOOOOOOO   \n",
       "Q6Q6R3  IIIIIIIIIIIIIIIIIIIIIIIIIIIIIIIIIIIIIIIIIIIIIIIIIIIIIIIIIIIIIIIIIIIIII   \n",
       "Q9BDB7  IIIIIIIIIIIIIIIIIIIIIIIIIIIIIIIIIIIIIIIIIIIIIIIIIIIIIIIIIIIIIIIIIIIIII   \n",
       "O60121  IIIIIIIIIIIIIIIIIIIIIIIIIIIIIIIIIIIIIIIIIIIIIIIIIIIIIIIIIIIIIIIIIIIIII   \n",
       "\n",
       "        Split  \n",
       "O99019      4  \n",
       "P02739      4  \n",
       "P43319      4  \n",
       "Q8BUN5      4  \n",
       "A7MLE5      4  \n",
       "...       ...  \n",
       "Q9UTN4      4  \n",
       "Q86W10      4  \n",
       "Q6Q6R3      4  \n",
       "Q9BDB7      4  \n",
       "O60121      4  \n",
       "\n",
       "[4147 rows x 7 columns]"
      ]
     },
     "execution_count": 25,
     "metadata": {},
     "output_type": "execute_result"
    }
   ],
   "source": [
    "df_final.head(None)"
   ]
  },
  {
   "cell_type": "code",
   "execution_count": null,
   "metadata": {},
   "outputs": [],
   "source": [
    "df_final.to_parquet(ROOT + '/data/processed/df_SignalP6_predicted_labels.parquet.gzip', compression='gzip')"
   ]
  },
  {
   "cell_type": "markdown",
   "metadata": {},
   "source": [
    "---"
   ]
  },
  {
   "cell_type": "markdown",
   "metadata": {},
   "source": []
  }
 ],
 "metadata": {
  "kernelspec": {
   "display_name": ".venv",
   "language": "python",
   "name": "python3"
  },
  "language_info": {
   "codemirror_mode": {
    "name": "ipython",
    "version": 3
   },
   "file_extension": ".py",
   "mimetype": "text/x-python",
   "name": "python",
   "nbconvert_exporter": "python",
   "pygments_lexer": "ipython3",
   "version": "3.11.6"
  }
 },
 "nbformat": 4,
 "nbformat_minor": 2
}
