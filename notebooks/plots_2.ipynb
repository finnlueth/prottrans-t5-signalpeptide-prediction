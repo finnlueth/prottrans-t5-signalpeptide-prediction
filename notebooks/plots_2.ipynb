{
 "cells": [
  {
   "cell_type": "code",
   "execution_count": 1,
   "metadata": {},
   "outputs": [],
   "source": [
    "%load_ext autoreload\n",
    "%autoreload 2\n",
    "\n",
    "import pandas as pd\n",
    "import numpy as np\n",
    "\n",
    "from sklearn.metrics import confusion_matrix\n",
    "from sklearn.metrics import matthews_corrcoef\n",
    "\n",
    "\n",
    "import matplotlib.pyplot as plt\n",
    "import seaborn as sns\n",
    "\n",
    "import src.evaluation\n",
    "import src.config\n",
    "\n",
    "import random"
   ]
  },
  {
   "cell_type": "code",
   "execution_count": 2,
   "metadata": {},
   "outputs": [],
   "source": [
    "results = pd.read_parquet('./results/df_data.parquet.gzip')\n",
    "\n",
    "# display(results.head())\n",
    "# display(results.sample(5))\n",
    "# print(results.shape)\n",
    "# print(results.columns.tolist())"
   ]
  },
  {
   "cell_type": "code",
   "execution_count": 68,
   "metadata": {},
   "outputs": [],
   "source": [
    "def evaluate_mcc(targets, predictions, labels):\n",
    "    p = {}\n",
    "    \n",
    "    for x in labels:\n",
    "        target = [1 if y == x else 0 for y in targets]\n",
    "        prediction = [1 if y == x else 0 for y in predictions]\n",
    "\n",
    "        number_errors = 100\n",
    "        slice_len = 10000\n",
    "        errors = np.zeros(number_errors)\n",
    "        for err in range(number_errors):\n",
    "            index = random.randint(1, len(target) - slice_len)\n",
    "            \n",
    "            target_slice = target[index:index+slice_len]\n",
    "            pred_slice = prediction[index:index+slice_len]\n",
    "            # print(target_slice)\n",
    "            # print(pred_slice)\n",
    "            \n",
    "            if target_slice == pred_slice:\n",
    "                errors[err] = 1\n",
    "            else:\n",
    "                errors[err] = matthews_corrcoef(target_slice, pred_slice)\n",
    "                \n",
    "            # print(errors[err])\n",
    "            # if errors[err] == 0:\n",
    "            #     print(target[index:index+slice_len])\n",
    "            #     print(prediction[index:index+slice_len])\n",
    "        error = 0\n",
    "        avg_err = np.mean(errors)\n",
    "        error = np.sqrt(1/(errors.shape[0]-1) * np.sum(errors-avg_err)**2)\n",
    "        print(errors)\n",
    "        # print(error)\n",
    "\n",
    "        print()\n",
    "        p.update({x: [matthews_corrcoef(target, prediction), error]})\n",
    "        \n",
    "    return p"
   ]
  },
  {
   "cell_type": "code",
   "execution_count": 69,
   "metadata": {},
   "outputs": [
    {
     "name": "stdout",
     "output_type": "stream",
     "text": [
      "[1.         1.         0.96867708 0.         0.95755483 0.\n",
      " 1.         0.95209979 0.         0.         0.95047012 0.\n",
      " 0.         0.93379707 0.         0.         0.         0.\n",
      " 1.         0.         0.         0.         1.         0.\n",
      " 0.95743063 0.         1.         0.93948029 1.         0.95132681\n",
      " 1.         0.         0.         0.95223754 1.         0.\n",
      " 0.96308207 0.         0.9516459  0.         1.         0.94248115\n",
      " 0.         0.         1.         1.         0.         1.\n",
      " 0.         1.         0.96963019 0.         0.         0.\n",
      " 1.         0.         0.         0.         1.         0.\n",
      " 1.         0.         1.         0.94093468 0.95146724 1.\n",
      " 0.94702015 1.         0.82299335 1.         0.94046342 1.\n",
      " 1.         0.         0.97788515 0.93345464 0.         0.93540327\n",
      " 0.         1.         0.         1.         0.         0.\n",
      " 1.         0.         0.92223077 0.96007122 0.         0.\n",
      " 1.         0.95052274 0.         0.         1.         1.\n",
      " 0.         0.82851748 0.         0.        ]\n",
      "\n",
      "[1.         1.         0.         1.         0.         1.\n",
      " 1.         1.         1.         1.         1.         1.\n",
      " 0.         0.93441116 0.97463008 0.         1.         1.\n",
      " 1.         1.         1.         1.         0.         1.\n",
      " 1.         1.         1.         0.         0.         1.\n",
      " 1.         0.97052765 1.         0.         1.         1.\n",
      " 1.         1.         1.         1.         1.         0.\n",
      " 1.         1.         1.         1.         0.77177485 1.\n",
      " 1.         1.         0.         1.         1.         0.96021091\n",
      " 1.         1.         1.         1.         1.         1.\n",
      " 0.         0.97364458 1.         0.93335743 0.         0.98258359\n",
      " 0.         1.         1.         1.         1.         1.\n",
      " 1.         1.         1.         1.         1.         0.9893844\n",
      " 1.         0.         1.         1.         1.         1.\n",
      " 0.97463008 1.         1.         1.         1.         1.\n",
      " 1.         1.         1.         1.         1.         1.\n",
      " 0.         1.         1.         1.        ]\n",
      "\n",
      "[1.         1.         1.         1.         1.         1.\n",
      " 0.         1.         1.         1.         0.         0.\n",
      " 1.         1.         1.         1.         1.         0.92573438\n",
      " 1.         1.         1.         1.         1.         1.\n",
      " 0.         1.         1.         1.         0.         1.\n",
      " 1.         1.         1.         1.         1.         1.\n",
      " 1.         1.         1.         1.         1.         1.\n",
      " 1.         1.         1.         1.         1.         1.\n",
      " 1.         1.         1.         1.         1.         1.\n",
      " 1.         1.         0.89519535 0.         1.         0.94125566\n",
      " 1.         0.         1.         1.         1.         1.\n",
      " 1.         1.         1.         1.         1.         0.\n",
      " 1.         1.         1.         1.         1.         1.\n",
      " 1.         1.         1.         1.         1.         1.\n",
      " 1.         1.         1.         1.         1.         1.\n",
      " 1.         1.         1.         1.         1.         0.\n",
      " 1.         0.94125566 1.         1.        ]\n",
      "\n",
      "[0.         0.         0.         0.95192477 0.9637025  0.87979034\n",
      " 1.         0.         0.96838835 0.         0.94799059 0.\n",
      " 0.96566042 1.         1.         0.         0.         0.\n",
      " 0.         0.91330274 0.         0.         0.80908593 0.\n",
      " 0.         0.         0.82147358 0.         0.96401742 1.\n",
      " 0.71439668 0.98199831 0.96833289 0.9782782  0.         0.87695601\n",
      " 0.95218413 0.         0.         0.         0.98115291 0.\n",
      " 0.96872486 0.         0.         1.         0.97044333 0.9707135\n",
      " 0.         0.69605582 0.96824497 0.61943744 0.         0.\n",
      " 0.         0.         0.         0.         1.         0.\n",
      " 0.         1.         0.         1.         0.97044333 0.87596517\n",
      " 0.         0.         0.         0.90334342 0.90226637 0.96518523\n",
      " 0.         0.90416709 0.62716216 0.63278717 0.96217398 1.\n",
      " 0.         0.89017683 0.         0.94225856 0.         0.91261707\n",
      " 0.92644468 1.         0.         0.         0.         0.87976287\n",
      " 0.         0.         0.         0.         0.96206687 0.\n",
      " 0.         1.         0.         0.        ]\n",
      "\n",
      "[ 0.          0.          0.          0.          0.79000846  0.\n",
      "  0.          0.          0.          0.66971979  0.          1.\n",
      "  1.          0.          0.          0.57845572 -0.01082984  0.\n",
      "  0.          1.          0.53231231  0.          0.61847303  0.\n",
      "  0.          0.         -0.00182904  0.99918606  0.          0.\n",
      "  0.49724659  0.          0.49310143  0.          0.          0.\n",
      "  0.          0.          0.          0.99891152  0.          0.\n",
      "  0.50543805  0.          0.48856678  0.          0.          0.\n",
      "  0.          0.62937174  0.          0.          1.          0.13907518\n",
      "  0.          0.          0.          0.          0.          0.64794975\n",
      "  0.          0.          0.          0.          0.          0.\n",
      "  0.          0.          0.73446673  0.          0.          0.\n",
      "  0.80078508  0.          0.          0.          0.          0.\n",
      " -0.00175306  0.          0.          0.          0.          0.\n",
      "  0.          0.92873683  0.10178954  0.          0.          0.\n",
      "  0.60102999  0.          0.          0.          0.          0.\n",
      "  0.          0.          0.         -0.00182904]\n",
      "\n",
      "[ 0.          1.          1.          1.          0.50141777  0.\n",
      "  0.          0.          1.          0.48261183  1.          0.\n",
      "  1.          1.          0.          1.          1.          0.\n",
      "  0.          1.          0.26919777  1.         -0.00452863  0.\n",
      "  1.          0.          0.50605782  0.          1.          0.48687048\n",
      "  0.          1.          0.          0.          1.          1.\n",
      "  1.          0.          0.56440465  0.12307958  0.4851299  -0.00292265\n",
      "  1.          0.          1.          0.          1.          0.\n",
      " -0.00408761  1.          1.          1.          0.          0.\n",
      "  1.         -0.00408761  1.          1.          1.          0.\n",
      "  1.          0.          1.          0.48827159  0.          0.58759213\n",
      "  1.          0.55869606  0.          0.         -0.00320706  1.\n",
      "  0.          0.          1.          0.62282423  0.         -0.00367289\n",
      "  0.          0.58120776  1.          1.          0.          1.\n",
      "  0.56965968  1.          0.          1.          1.          0.\n",
      "  0.          1.          1.          0.          1.          0.\n",
      "  0.          0.          1.          1.        ]\n",
      "\n"
     ]
    }
   ],
   "source": [
    "expert_labels = ['S', 'L', 'T', 'O', 'I', 'M']\n",
    "index_names = ['predicted_label_linear_ALL', 'predicted_label_linear_experts', 'predicted_label_linear_experts_imperfect', 'predicted_label_crf_ALL', 'predicted_label_crf_experts', 'predicted_label_crf_experts_imperfect']\n",
    "real_names = ['Linear Broad', 'Linear Experts Perfect Gate', 'Linear Experts Imperfect Gate', 'CRF Broad', 'CRF Experts Perfect Gate', 'CRF Experts Imperfect Gate']\n",
    "\n",
    "mcc_values = {}\n",
    "for index_name, real_name in zip(index_names, real_names):\n",
    "    # print(index_name, real_name)\n",
    "    tmp_mcc_values = evaluate_mcc(\n",
    "        targets=list(''.join(results['Label'].tolist())),\n",
    "        predictions=list(''.join(results[index_name].tolist())),\n",
    "        labels=expert_labels\n",
    "    )\n",
    "    # tmp_mcc_values['real_names'] = real_name\n",
    "    mcc_values.update({real_name: tmp_mcc_values})\n",
    "    break"
   ]
  },
  {
   "cell_type": "code",
   "execution_count": 67,
   "metadata": {},
   "outputs": [
    {
     "data": {
      "text/plain": [
       "{'Linear Broad': {'S': [0.9288273276602671, 4.351682880166993e-16],\n",
       "  'L': [0.9559388624269421, 1.896887409303561e-16],\n",
       "  'T': [0.9458460216910255, 1.2943467028189004e-15],\n",
       "  'O': [0.9378387316919236, 4.240101267855019e-16],\n",
       "  'I': [0.9317978915274424, 1.283188541587703e-16],\n",
       "  'M': [0.5756976280898956, 1.7853057969915868e-16]}}"
      ]
     },
     "execution_count": 67,
     "metadata": {},
     "output_type": "execute_result"
    }
   ],
   "source": [
    "mcc_values"
   ]
  },
  {
   "cell_type": "code",
   "execution_count": null,
   "metadata": {},
   "outputs": [],
   "source": [
    "df_mcc_values = pd.DataFrame(mcc_values).reset_index().rename(columns={'index': 'Label'}).melt(id_vars=['Label'], var_name='Model', value_name='MCC')\n",
    "df_mcc_values['Error'] = df_mcc_values['MCC'].apply(lambda x: x[1])\n",
    "df_mcc_values['MCC'] = df_mcc_values['MCC'].apply(lambda x: x[0])\n",
    "# sns.set(style=\"whitegrid\")\n",
    "# ax = sns.barplot(data=df_mcc_values, ci=None)\n",
    "# ax.set(ylim=(0.5, None))\n",
    "df_mcc_values['Label'] = df_mcc_values['Label'].map({'S': 'Sec/SPI\\nSignal (S)', 'L': 'Sec/SPII\\nSignal (L)', 'T': 'Tat/SPI Signal\\n(T)', 'O': 'Outer\\nRegion (O)', 'I': 'Inner Region (I)', 'M': 'Membrane\\nRegion (M)'})"
   ]
  },
  {
   "cell_type": "code",
   "execution_count": null,
   "metadata": {},
   "outputs": [],
   "source": [
    "src.evaluation.plot_mcc_split_label(df_mcc_values, 'mako')"
   ]
  },
  {
   "cell_type": "markdown",
   "metadata": {},
   "source": [
    "---"
   ]
  },
  {
   "cell_type": "code",
   "execution_count": 70,
   "metadata": {},
   "outputs": [],
   "source": [
    "def evaluate_mcc_simple(targets, predictions, labels):\n",
    "    p = {}\n",
    "    \n",
    "    for x in labels:\n",
    "        target = [1 if y == x else 0 for y in targets]\n",
    "        prediction = [1 if y == x else 0 for y in predictions]\n",
    "        if target == prediction:\n",
    "            mcc = 1\n",
    "        else:\n",
    "            mcc = matthews_corrcoef(target, prediction)\n",
    "        p.update({x: mcc})\n",
    "    return p"
   ]
  },
  {
   "cell_type": "code",
   "execution_count": 120,
   "metadata": {},
   "outputs": [],
   "source": [
    "mcc_results = [None] * results.shape[0]\n",
    "for index, item in results.iterrows():\n",
    "    target = item['Label']\n",
    "    prediction = item['predicted_label_linear_ALL']\n",
    "    mcc = evaluate_mcc_simple(target, prediction, expert_labels)\n",
    "    mcc_results[index] = mcc\n",
    "mcc_results = pd.DataFrame(mcc_results)\n",
    "    "
   ]
  },
  {
   "cell_type": "code",
   "execution_count": 121,
   "metadata": {},
   "outputs": [],
   "source": [
    "# mcc_results['M'].std()"
   ]
  },
  {
   "cell_type": "code",
   "execution_count": 122,
   "metadata": {},
   "outputs": [],
   "source": [
    "def calc_mcc_error(mcc_results_iter):\n",
    "    mcc_results_iter = [x for x in mcc_results_iter if x is not None]\n",
    "    mccs = np.array(mcc_results_iter)\n",
    "    mean_mcc = np.mean(mccs)\n",
    "    # error = np.sqrt(1/(mccs.shape[0]-1) * np.sum(mccs-mean_mcc)**2)\n",
    "    error = mccs.std()/np.sqrt(mccs.shape[0])\n",
    "    return mean_mcc, error"
   ]
  },
  {
   "cell_type": "code",
   "execution_count": 123,
   "metadata": {},
   "outputs": [
    {
     "data": {
      "text/plain": [
       "[(0.9707824544601842, 0.002483181357098469),\n",
       " (0.9925504911555059, 0.0013182052789598947),\n",
       " (0.99690723191429, 0.000746330187672169),\n",
       " (0.9477849637883972, 0.0030853825462679825),\n",
       " (0.9444530625741157, 0.003287752100556466),\n",
       " (0.9537025352864126, 0.002841627537207284)]"
      ]
     },
     "execution_count": 123,
     "metadata": {},
     "output_type": "execute_result"
    }
   ],
   "source": [
    "[calc_mcc_error(mcc_results[x]) for x in expert_labels]"
   ]
  },
  {
   "cell_type": "code",
   "execution_count": 113,
   "metadata": {},
   "outputs": [],
   "source": [
    "tmp_res = results.apply(lambda x: evaluate_mcc_simple(\n",
    "    targets=list(results['Label']),\n",
    "    predictions=list(results['predicted_label_crf_experts_imperfect']),\n",
    "    labels=expert_labels), axis=1)"
   ]
  },
  {
   "cell_type": "code",
   "execution_count": null,
   "metadata": {},
   "outputs": [],
   "source": [
    "df_tmp_res = pd.DataFrame([pd.Series(x) for x in tmp_res])"
   ]
  },
  {
   "cell_type": "code",
   "execution_count": null,
   "metadata": {},
   "outputs": [],
   "source": [
    "df_tmp_res.head()"
   ]
  },
  {
   "cell_type": "code",
   "execution_count": null,
   "metadata": {},
   "outputs": [],
   "source": [
    "df_tmp_res.value_counts()"
   ]
  },
  {
   "cell_type": "code",
   "execution_count": null,
   "metadata": {},
   "outputs": [],
   "source": [
    "np.sqrt(1/(df_tmp_res['S'].shape[0]-1) * (np.sum(df_tmp_res['S']-df_tmp_res['S'].mean()**2)))"
   ]
  },
  {
   "cell_type": "code",
   "execution_count": null,
   "metadata": {},
   "outputs": [],
   "source": [
    "# mcc_values = {}\n",
    "\n",
    "# for index_name, real_name in zip(index_names, real_names):\n",
    "#      p.update({real_name: evaluate_mcc_simple()\n",
    "    "
   ]
  },
  {
   "cell_type": "code",
   "execution_count": null,
   "metadata": {},
   "outputs": [],
   "source": [
    "mc_mcc = results.apply(lambda x: 1 if x['Label'] == x['predicted_label_linear_ALL'] else matthews_corrcoef(list(x['Label']), list(x['predicted_label_linear_ALL'])), axis=1)"
   ]
  },
  {
   "cell_type": "code",
   "execution_count": null,
   "metadata": {},
   "outputs": [],
   "source": [
    "np.sqrt(1/(mc_mcc.shape[0]-1) * (np.sum(mc_mcc-mc_mcc.mean()**2)))\n"
   ]
  },
  {
   "cell_type": "code",
   "execution_count": null,
   "metadata": {},
   "outputs": [],
   "source": [
    "mc_mcc.shape[0]"
   ]
  },
  {
   "cell_type": "code",
   "execution_count": null,
   "metadata": {},
   "outputs": [],
   "source": [
    "(1/(mc_mcc.shape[0]-1)) * np.sum((mc_mcc-mc_mcc.mean())**2)"
   ]
  },
  {
   "cell_type": "code",
   "execution_count": null,
   "metadata": {},
   "outputs": [],
   "source": [
    "mc_mcc.std()/np.sqrt(mc_mcc.shape[0])"
   ]
  },
  {
   "cell_type": "code",
   "execution_count": null,
   "metadata": {},
   "outputs": [],
   "source": []
  }
 ],
 "metadata": {
  "kernelspec": {
   "display_name": ".venv",
   "language": "python",
   "name": "python3"
  },
  "language_info": {
   "codemirror_mode": {
    "name": "ipython",
    "version": 3
   },
   "file_extension": ".py",
   "mimetype": "text/x-python",
   "name": "python",
   "nbconvert_exporter": "python",
   "pygments_lexer": "ipython3",
   "version": "3.11.6"
  }
 },
 "nbformat": 4,
 "nbformat_minor": 2
}
