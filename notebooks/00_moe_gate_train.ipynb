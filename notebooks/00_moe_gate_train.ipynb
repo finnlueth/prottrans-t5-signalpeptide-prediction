{
 "cells": [
  {
   "cell_type": "markdown",
   "metadata": {},
   "source": [
    "- split dataset by kingdom (Eukarya, Archea, Positive, Negative)\n",
    "\n",
    "or\n",
    "\n",
    "- split data by type (SP, No SP, Lipo, TAT)"
   ]
  },
  {
   "cell_type": "code",
   "execution_count": null,
   "metadata": {
    "vscode": {
     "languageId": "plaintext"
    }
   },
   "outputs": [],
   "source": []
  }
 ],
 "metadata": {
  "language_info": {
   "name": "python"
  }
 },
 "nbformat": 4,
 "nbformat_minor": 2
}
