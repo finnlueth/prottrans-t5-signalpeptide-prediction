{
 "cells": [
  {
   "cell_type": "code",
   "execution_count": null,
   "metadata": {},
   "outputs": [],
   "source": [
    "%load_ext autoreload\n",
    "%autoreload 2"
   ]
  },
  {
   "cell_type": "code",
   "execution_count": null,
   "metadata": {},
   "outputs": [],
   "source": [
    "import pandas as pd\n",
    "import os\n",
    "from src.utils import get_project_root_path\n",
    "import src.config as config "
   ]
  },
  {
   "cell_type": "code",
   "execution_count": null,
   "metadata": {},
   "outputs": [],
   "source": [
    "ROOT = get_project_root_path()"
   ]
  },
  {
   "cell_type": "code",
   "execution_count": null,
   "metadata": {},
   "outputs": [],
   "source": [
    "pd.set_option('display.max_columns', 1000)\n",
    "pd.set_option('display.max_rows', 1000)\n",
    "pd.set_option('display.max_colwidth', None)"
   ]
  },
  {
   "cell_type": "code",
   "execution_count": null,
   "metadata": {},
   "outputs": [],
   "source": [
    "df_singalp6_preds = pd.read_parquet(ROOT + '/data/processed/df_SignalP6_predicted_labels.parquet.gzip')"
   ]
  },
  {
   "cell_type": "code",
   "execution_count": null,
   "metadata": {},
   "outputs": [],
   "source": [
    "df_singalp6_preds.head()"
   ]
  },
  {
   "cell_type": "code",
   "execution_count": null,
   "metadata": {},
   "outputs": [],
   "source": [
    "df_singalp6_preds_type_split = df_singalp6_preds[\n",
    "    df_singalp6_preds['Type'] == 'SP'\n",
    "]"
   ]
  },
  {
   "cell_type": "code",
   "execution_count": null,
   "metadata": {},
   "outputs": [],
   "source": [
    "# pd.DataFrame(df_singalp6_preds_type_split[['SignalP6_predicted_labels', 'Label']].value_counts())"
   ]
  },
  {
   "cell_type": "code",
   "execution_count": null,
   "metadata": {},
   "outputs": [],
   "source": [
    "# df_singalp6_preds_type_split[\n",
    "#     df_singalp6_preds_type_split['SignalP6_predicted_labels'] == 'NNHHHHHHHHHHHHCCCCOOOOOOOOOOOOOOOOOOOOOOOOOOOOOOOOOOOOOOOOOOOOOOOOOOOO'\n",
    "# ]"
   ]
  },
  {
   "cell_type": "code",
   "execution_count": null,
   "metadata": {},
   "outputs": [],
   "source": [
    "pd.DataFrame([x for x in ''.join(df_singalp6_preds_type_split['SignalP6_predicted_labels'].values.tolist())]).value_counts()"
   ]
  },
  {
   "cell_type": "code",
   "execution_count": null,
   "metadata": {},
   "outputs": [],
   "source": [
    "transltation_dict_NO_SP = {\n",
    "    'O': '',\n",
    "    'H': '',\n",
    "    'N': '',\n",
    "    'C': '',\n",
    "}\n",
    "\n",
    "transltation_dict_SP = {\n",
    "    'O': 'O',\n",
    "    'H': 'S',\n",
    "    'N': 'S',\n",
    "    'C': 'S',\n",
    "\n",
    "}\n",
    "\n",
    "translation_dict_TAT = {\n",
    "    'O': '',\n",
    "    'H': '',\n",
    "    'N': '',\n",
    "    'C': '',\n",
    "    'R': ''\n",
    "}\n",
    "\n",
    "translation_dict_LIPO = {\n",
    "    'O': '',\n",
    "    'H': '',\n",
    "    'N': '',\n",
    "    'C': '',\n",
    "}"
   ]
  }
 ],
 "metadata": {
  "kernelspec": {
   "display_name": ".venv",
   "language": "python",
   "name": "python3"
  },
  "language_info": {
   "codemirror_mode": {
    "name": "ipython",
    "version": 3
   },
   "file_extension": ".py",
   "mimetype": "text/x-python",
   "name": "python",
   "nbconvert_exporter": "python",
   "pygments_lexer": "ipython3",
   "version": "3.11.2"
  }
 },
 "nbformat": 4,
 "nbformat_minor": 2
}
